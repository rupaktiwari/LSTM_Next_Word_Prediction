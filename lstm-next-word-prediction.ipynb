{
 "cells": [
  {
   "cell_type": "raw",
   "id": "55cd5650",
   "metadata": {
    "_cell_guid": "b1076dfc-b9ad-4769-8c92-a6c4dae69d19",
    "_uuid": "8f2839f25d086af736a60e9eeb907d3b93b6e0e5",
    "papermill": {
     "duration": 0.007313,
     "end_time": "2025-03-09T14:52:27.264785",
     "exception": false,
     "start_time": "2025-03-09T14:52:27.257472",
     "status": "completed"
    },
    "tags": []
   },
   "source": [
    "# This Python 3 environment comes with many helpful analytics libraries installed\n",
    "# It is defined by the kaggle/python Docker image: https://github.com/kaggle/docker-python\n",
    "# For example, here's several helpful packages to load\n",
    "\n",
    "import numpy as np # linear algebra\n",
    "import pandas as pd # data processing, CSV file I/O (e.g. pd.read_csv)\n",
    "\n",
    "# Input data files are available in the read-only \"../input/\" directory\n",
    "# For example, running this (by clicking run or pressing Shift+Enter) will list all files under the input directory\n",
    "\n",
    "import os\n",
    "for dirname, _, filenames in os.walk('/kaggle/input'):\n",
    "    for filename in filenames:\n",
    "        print(os.path.join(dirname, filename))\n",
    "\n",
    "# You can write up to 20GB to the current directory (/kaggle/working/) that gets preserved as output when you create a version using \"Save & Run All\" \n",
    "# You can also write temporary files to /kaggle/temp/, but they won't be saved outside of the current session"
   ]
  },
  {
   "cell_type": "code",
   "execution_count": 1,
   "id": "2addd010",
   "metadata": {
    "execution": {
     "iopub.execute_input": "2025-03-09T14:52:27.279026Z",
     "iopub.status.busy": "2025-03-09T14:52:27.278530Z",
     "iopub.status.idle": "2025-03-09T14:52:27.283762Z",
     "shell.execute_reply": "2025-03-09T14:52:27.282943Z"
    },
    "papermill": {
     "duration": 0.014601,
     "end_time": "2025-03-09T14:52:27.285750",
     "exception": false,
     "start_time": "2025-03-09T14:52:27.271149",
     "status": "completed"
    },
    "tags": []
   },
   "outputs": [],
   "source": [
    "# converting a text generation task into a supervised learning task"
   ]
  },
  {
   "cell_type": "code",
   "execution_count": 2,
   "id": "5b558e01",
   "metadata": {
    "execution": {
     "iopub.execute_input": "2025-03-09T14:52:27.299757Z",
     "iopub.status.busy": "2025-03-09T14:52:27.299404Z",
     "iopub.status.idle": "2025-03-09T14:52:27.310888Z",
     "shell.execute_reply": "2025-03-09T14:52:27.309794Z"
    },
    "papermill": {
     "duration": 0.021167,
     "end_time": "2025-03-09T14:52:27.313040",
     "exception": false,
     "start_time": "2025-03-09T14:52:27.291873",
     "status": "completed"
    },
    "tags": []
   },
   "outputs": [],
   "source": [
    "faqs = \"\"\"About the Program\n",
    "What is the course fee for  Data Science Mentorship Program (DSMP 2023)\n",
    "The course follows a monthly subscription model where you have to make monthly payments of Rs 799/month.\n",
    "What is the total duration of the course?\n",
    "The total duration of the course is 7 months. So the total course fee becomes 799*7 = Rs 5600(approx.)\n",
    "What is the syllabus of the mentorship program?\n",
    "We will be covering the following modules:\n",
    "Python Fundamentals\n",
    "Python libraries for Data Science\n",
    "Data Analysis\n",
    "SQL for Data Science\n",
    "Maths for Machine Learning\n",
    "ML Algorithms\n",
    "Practical ML\n",
    "MLOPs\n",
    "Case studies\n",
    "You can check the detailed syllabus here - https://learnwith.campusx.in/courses/CampusX-Data-Science-Mentorship-Program-637339afe4b0615a1bbed390\n",
    "Will Deep Learning and NLP be a part of this program?\n",
    "No, NLP and Deep Learning both are not a part of this program’s curriculum.\n",
    "What if I miss a live session? Will I get a recording of the session?\n",
    "Yes all our sessions are recorded, so even if you miss a session you can go back and watch the recording.\n",
    "Where can I find the class schedule?\n",
    "Checkout this google sheet to see month by month time table of the course - https://docs.google.com/spreadsheets/d/16OoTax_A6ORAeCg4emgexhqqPv3noQPYKU7RJ6ArOzk/edit?usp=sharing.\n",
    "What is the time duration of all the live sessions?\n",
    "Roughly, all the sessions last 2 hours.\n",
    "What is the language spoken by the instructor during the sessions?\n",
    "Hinglish\n",
    "How will I be informed about the upcoming class?\n",
    "You will get a mail from our side before every paid session once you become a paid user.\n",
    "Can I do this course if I am from a non-tech background?\n",
    "Yes, absolutely.\n",
    "I am late, can I join the program in the middle?\n",
    "Absolutely, you can join the program anytime.\n",
    "If I join/pay in the middle, will I be able to see all the past lectures?\n",
    "Yes, once you make the payment you will be able to see all the past content in your dashboard.\n",
    "Where do I have to submit the task?\n",
    "You don’t have to submit the task. We will provide you with the solutions, you have to self evaluate the task yourself.\n",
    "Will we do case studies in the program?\n",
    "Yes.\n",
    "Where can we contact you?\n",
    "You can mail us at nitish.campusx@gmail.com\n",
    "Payment/Registration related questions\n",
    "Where do we have to make our payments? Your YouTube channel or website?\n",
    "You have to make all your monthly payments on our website. Here is the link for our website - https://learnwith.campusx.in/\n",
    "Can we pay the entire amount of Rs 5600 all at once?\n",
    "Unfortunately no, the program follows a monthly subscription model.\n",
    "What is the validity of monthly subscription? Suppose if I pay on 15th Jan, then do I have to pay again on 1st Feb or 15th Feb\n",
    "15th Feb. The validity period is 30 days from the day you make the payment. So essentially you can join anytime you don’t have to wait for a month to end.\n",
    "What if I don’t like the course after making the payment. What is the refund policy?\n",
    "You get a 7 days refund period from the day you have made the payment.\n",
    "I am living outside India and I am not able to make the payment on the website, what should I do?\n",
    "You have to contact us by sending a mail at nitish.campusx@gmail.com\n",
    "Post registration queries\n",
    "Till when can I view the paid videos on the website?\n",
    "This one is tricky, so read carefully. You can watch the videos till your subscription is valid. Suppose you have purchased subscription on 21st Jan, you will be able to watch all the past paid sessions in the period of 21st Jan to 20th Feb. But after 21st Feb you will have to purchase the subscription again.\n",
    "But once the course is over and you have paid us Rs 5600(or 7 installments of Rs 799) you will be able to watch the paid sessions till Aug 2024.\n",
    "Why lifetime validity is not provided?\n",
    "Because of the low course fee.\n",
    "Where can I reach out in case of a doubt after the session?\n",
    "You will have to fill a google form provided in your dashboard and our team will contact you for a 1 on 1 doubt clearance session\n",
    "If I join the program late, can I still ask past week doubts?\n",
    "Yes, just select past week doubt in the doubt clearance google form.\n",
    "I am living outside India and I am not able to make the payment on the website, what should I do?\n",
    "You have to contact us by sending a mail at nitish.campusx@gmai.com\n",
    "Certificate and Placement Assistance related queries\n",
    "What is the criteria to get the certificate?\n",
    "There are 2 criterias:\n",
    "You have to pay the entire fee of Rs 5600\n",
    "You have to attempt all the course assessments.\n",
    "I am joining late. How can I pay payment of the earlier months?\n",
    "You will get a link to pay fee of earlier months in your dashboard once you pay for the current month.\n",
    "I have read that Placement assistance is a part of this program. What comes under Placement assistance?\n",
    "This is to clarify that Placement assistance does not mean Placement guarantee. So we dont guarantee you any jobs or for that matter even interview calls. So if you are planning to join this course just for placements, I am afraid you will be disappointed. Here is what comes under placement assistance\n",
    "Portfolio Building sessions\n",
    "Soft skill sessions\n",
    "Sessions with industry mentors\n",
    "Discussion on Job hunting strategies\n",
    "\"\"\""
   ]
  },
  {
   "cell_type": "code",
   "execution_count": 3,
   "id": "c1a5757e",
   "metadata": {
    "execution": {
     "iopub.execute_input": "2025-03-09T14:52:27.326869Z",
     "iopub.status.busy": "2025-03-09T14:52:27.326475Z",
     "iopub.status.idle": "2025-03-09T14:52:27.331005Z",
     "shell.execute_reply": "2025-03-09T14:52:27.329961Z"
    },
    "papermill": {
     "duration": 0.013933,
     "end_time": "2025-03-09T14:52:27.333174",
     "exception": false,
     "start_time": "2025-03-09T14:52:27.319241",
     "status": "completed"
    },
    "tags": []
   },
   "outputs": [],
   "source": [
    "# assigning index to each data so that it will be easier for us to work later."
   ]
  },
  {
   "cell_type": "code",
   "execution_count": 4,
   "id": "4dfc96ae",
   "metadata": {
    "execution": {
     "iopub.execute_input": "2025-03-09T14:52:27.348655Z",
     "iopub.status.busy": "2025-03-09T14:52:27.347672Z",
     "iopub.status.idle": "2025-03-09T14:52:42.432919Z",
     "shell.execute_reply": "2025-03-09T14:52:42.431956Z"
    },
    "papermill": {
     "duration": 15.09491,
     "end_time": "2025-03-09T14:52:42.435222",
     "exception": false,
     "start_time": "2025-03-09T14:52:27.340312",
     "status": "completed"
    },
    "tags": []
   },
   "outputs": [],
   "source": [
    "import tensorflow as tf\n",
    "from tensorflow.keras.preprocessing.text import Tokenizer"
   ]
  },
  {
   "cell_type": "code",
   "execution_count": 5,
   "id": "6f19e073",
   "metadata": {
    "execution": {
     "iopub.execute_input": "2025-03-09T14:52:42.449397Z",
     "iopub.status.busy": "2025-03-09T14:52:42.448765Z",
     "iopub.status.idle": "2025-03-09T14:52:42.453811Z",
     "shell.execute_reply": "2025-03-09T14:52:42.452783Z"
    },
    "papermill": {
     "duration": 0.014424,
     "end_time": "2025-03-09T14:52:42.455905",
     "exception": false,
     "start_time": "2025-03-09T14:52:42.441481",
     "status": "completed"
    },
    "tags": []
   },
   "outputs": [],
   "source": [
    "tokenizer = Tokenizer()"
   ]
  },
  {
   "cell_type": "code",
   "execution_count": 6,
   "id": "fc831abd",
   "metadata": {
    "execution": {
     "iopub.execute_input": "2025-03-09T14:52:42.469548Z",
     "iopub.status.busy": "2025-03-09T14:52:42.469188Z",
     "iopub.status.idle": "2025-03-09T14:52:42.475147Z",
     "shell.execute_reply": "2025-03-09T14:52:42.474143Z"
    },
    "papermill": {
     "duration": 0.01531,
     "end_time": "2025-03-09T14:52:42.477265",
     "exception": false,
     "start_time": "2025-03-09T14:52:42.461955",
     "status": "completed"
    },
    "tags": []
   },
   "outputs": [],
   "source": [
    "tokenizer.fit_on_texts([faqs])"
   ]
  },
  {
   "cell_type": "code",
   "execution_count": 7,
   "id": "c2ebc9cd",
   "metadata": {
    "execution": {
     "iopub.execute_input": "2025-03-09T14:52:42.490838Z",
     "iopub.status.busy": "2025-03-09T14:52:42.490495Z",
     "iopub.status.idle": "2025-03-09T14:52:42.497736Z",
     "shell.execute_reply": "2025-03-09T14:52:42.496662Z"
    },
    "papermill": {
     "duration": 0.016466,
     "end_time": "2025-03-09T14:52:42.499822",
     "exception": false,
     "start_time": "2025-03-09T14:52:42.483356",
     "status": "completed"
    },
    "tags": []
   },
   "outputs": [
    {
     "data": {
      "text/plain": [
       "282"
      ]
     },
     "execution_count": 7,
     "metadata": {},
     "output_type": "execute_result"
    }
   ],
   "source": [
    "len(tokenizer.word_index)"
   ]
  },
  {
   "cell_type": "code",
   "execution_count": 8,
   "id": "4e2b9201",
   "metadata": {
    "execution": {
     "iopub.execute_input": "2025-03-09T14:52:42.514629Z",
     "iopub.status.busy": "2025-03-09T14:52:42.513436Z",
     "iopub.status.idle": "2025-03-09T14:52:42.520288Z",
     "shell.execute_reply": "2025-03-09T14:52:42.519107Z"
    },
    "papermill": {
     "duration": 0.016252,
     "end_time": "2025-03-09T14:52:42.522314",
     "exception": false,
     "start_time": "2025-03-09T14:52:42.506062",
     "status": "completed"
    },
    "tags": []
   },
   "outputs": [
    {
     "name": "stdout",
     "output_type": "stream",
     "text": [
      "About the Program\n",
      "What is the course fee for  Data Science Mentorship Program (DSMP 2023)\n",
      "The course follows a monthly subscription model where you have to make monthly payments of Rs 799/month.\n",
      "What is the total duration of the course?\n",
      "The total duration of the course is 7 months. So the total course fee becomes 799*7 = Rs 5600(approx.)\n",
      "What is the syllabus of the mentorship program?\n",
      "We will be covering the following modules:\n",
      "Python Fundamentals\n",
      "Python libraries for Data Science\n",
      "Data Analysis\n",
      "SQL for Data Science\n",
      "Maths for Machine Learning\n",
      "ML Algorithms\n",
      "Practical ML\n",
      "MLOPs\n",
      "Case studies\n",
      "You can check the detailed syllabus here - https://learnwith.campusx.in/courses/CampusX-Data-Science-Mentorship-Program-637339afe4b0615a1bbed390\n",
      "Will Deep Learning and NLP be a part of this program?\n",
      "No, NLP and Deep Learning both are not a part of this program’s curriculum.\n",
      "What if I miss a live session? Will I get a recording of the session?\n",
      "Yes all our sessions are recorded, so even if you miss a session you can go back and watch the recording.\n",
      "Where can I find the class schedule?\n",
      "Checkout this google sheet to see month by month time table of the course - https://docs.google.com/spreadsheets/d/16OoTax_A6ORAeCg4emgexhqqPv3noQPYKU7RJ6ArOzk/edit?usp=sharing.\n",
      "What is the time duration of all the live sessions?\n",
      "Roughly, all the sessions last 2 hours.\n",
      "What is the language spoken by the instructor during the sessions?\n",
      "Hinglish\n",
      "How will I be informed about the upcoming class?\n",
      "You will get a mail from our side before every paid session once you become a paid user.\n",
      "Can I do this course if I am from a non-tech background?\n",
      "Yes, absolutely.\n",
      "I am late, can I join the program in the middle?\n",
      "Absolutely, you can join the program anytime.\n",
      "If I join/pay in the middle, will I be able to see all the past lectures?\n",
      "Yes, once you make the payment you will be able to see all the past content in your dashboard.\n",
      "Where do I have to submit the task?\n",
      "You don’t have to submit the task. We will provide you with the solutions, you have to self evaluate the task yourself.\n",
      "Will we do case studies in the program?\n",
      "Yes.\n",
      "Where can we contact you?\n",
      "You can mail us at nitish.campusx@gmail.com\n",
      "Payment/Registration related questions\n",
      "Where do we have to make our payments? Your YouTube channel or website?\n",
      "You have to make all your monthly payments on our website. Here is the link for our website - https://learnwith.campusx.in/\n",
      "Can we pay the entire amount of Rs 5600 all at once?\n",
      "Unfortunately no, the program follows a monthly subscription model.\n",
      "What is the validity of monthly subscription? Suppose if I pay on 15th Jan, then do I have to pay again on 1st Feb or 15th Feb\n",
      "15th Feb. The validity period is 30 days from the day you make the payment. So essentially you can join anytime you don’t have to wait for a month to end.\n",
      "What if I don’t like the course after making the payment. What is the refund policy?\n",
      "You get a 7 days refund period from the day you have made the payment.\n",
      "I am living outside India and I am not able to make the payment on the website, what should I do?\n",
      "You have to contact us by sending a mail at nitish.campusx@gmail.com\n",
      "Post registration queries\n",
      "Till when can I view the paid videos on the website?\n",
      "This one is tricky, so read carefully. You can watch the videos till your subscription is valid. Suppose you have purchased subscription on 21st Jan, you will be able to watch all the past paid sessions in the period of 21st Jan to 20th Feb. But after 21st Feb you will have to purchase the subscription again.\n",
      "But once the course is over and you have paid us Rs 5600(or 7 installments of Rs 799) you will be able to watch the paid sessions till Aug 2024.\n",
      "Why lifetime validity is not provided?\n",
      "Because of the low course fee.\n",
      "Where can I reach out in case of a doubt after the session?\n",
      "You will have to fill a google form provided in your dashboard and our team will contact you for a 1 on 1 doubt clearance session\n",
      "If I join the program late, can I still ask past week doubts?\n",
      "Yes, just select past week doubt in the doubt clearance google form.\n",
      "I am living outside India and I am not able to make the payment on the website, what should I do?\n",
      "You have to contact us by sending a mail at nitish.campusx@gmai.com\n",
      "Certificate and Placement Assistance related queries\n",
      "What is the criteria to get the certificate?\n",
      "There are 2 criterias:\n",
      "You have to pay the entire fee of Rs 5600\n",
      "You have to attempt all the course assessments.\n",
      "I am joining late. How can I pay payment of the earlier months?\n",
      "You will get a link to pay fee of earlier months in your dashboard once you pay for the current month.\n",
      "I have read that Placement assistance is a part of this program. What comes under Placement assistance?\n",
      "This is to clarify that Placement assistance does not mean Placement guarantee. So we dont guarantee you any jobs or for that matter even interview calls. So if you are planning to join this course just for placements, I am afraid you will be disappointed. Here is what comes under placement assistance\n",
      "Portfolio Building sessions\n",
      "Soft skill sessions\n",
      "Sessions with industry mentors\n",
      "Discussion on Job hunting strategies\n",
      "\n"
     ]
    }
   ],
   "source": [
    "# first we will find out all the sentences that are in our dataset.\n",
    "for sentence in faqs.split('\\n'):\n",
    "    print(sentence)"
   ]
  },
  {
   "cell_type": "code",
   "execution_count": 9,
   "id": "26a38459",
   "metadata": {
    "execution": {
     "iopub.execute_input": "2025-03-09T14:52:42.537119Z",
     "iopub.status.busy": "2025-03-09T14:52:42.536723Z",
     "iopub.status.idle": "2025-03-09T14:52:42.544161Z",
     "shell.execute_reply": "2025-03-09T14:52:42.543172Z"
    },
    "papermill": {
     "duration": 0.018244,
     "end_time": "2025-03-09T14:52:42.547068",
     "exception": false,
     "start_time": "2025-03-09T14:52:42.528824",
     "status": "completed"
    },
    "tags": []
   },
   "outputs": [
    {
     "name": "stdout",
     "output_type": "stream",
     "text": [
      "[93, 1, 13]\n",
      "[11, 7, 1, 12, 42, 15, 43, 53, 68, 13, 147, 148]\n",
      "[1, 12, 94, 5, 44, 29, 95, 30, 2, 8, 4, 26, 44, 69, 6, 31, 70, 45]\n",
      "[11, 7, 1, 71, 72, 6, 1, 12]\n",
      "[1, 71, 72, 6, 1, 12, 7, 54, 73, 32, 1, 71, 12, 42, 149, 70, 54, 31, 55, 150]\n",
      "[11, 7, 1, 96, 6, 1, 68, 13]\n",
      "[27, 9, 19, 151, 1, 152, 153]\n",
      "[97, 154]\n",
      "[97, 155, 15, 43, 53]\n",
      "[43, 156]\n",
      "[157, 15, 43, 53]\n",
      "[158, 15, 159, 74]\n",
      "[98, 160]\n",
      "[161, 98]\n",
      "[162]\n",
      "[75, 99]\n",
      "[2, 10, 163, 1, 164, 96, 76, 77, 100, 33, 14, 165, 33, 43, 53, 68, 13, 166]\n",
      "[9, 101, 74, 20, 102, 19, 5, 78, 6, 21, 13]\n",
      "[103, 102, 20, 101, 74, 167, 56, 46, 5, 78, 6, 21, 168, 169]\n",
      "[11, 22, 3, 104, 5, 105, 34, 9, 3, 47, 5, 106, 6, 1, 34]\n",
      "[48, 16, 35, 17, 56, 170, 32, 107, 22, 2, 104, 5, 34, 2, 10, 171, 172, 20, 57, 1, 106]\n",
      "[30, 10, 3, 173, 1, 108, 174]\n",
      "[175, 21, 58, 176, 4, 79, 45, 59, 45, 109, 177, 6, 1, 12, 77, 178, 58, 60, 179, 180, 181, 182, 183, 184, 185]\n",
      "[11, 7, 1, 109, 72, 6, 16, 1, 105, 17]\n",
      "[186, 16, 1, 17, 187, 110, 188]\n",
      "[11, 7, 1, 189, 190, 59, 1, 191, 192, 1, 17]\n",
      "[193]\n",
      "[111, 9, 3, 19, 194, 93, 1, 195, 108]\n",
      "[2, 9, 47, 5, 61, 62, 35, 196, 197, 198, 36, 34, 49, 2, 199, 5, 36, 200]\n",
      "[10, 3, 28, 21, 12, 22, 3, 23, 62, 5, 201, 202, 203]\n",
      "[48, 112]\n",
      "[3, 23, 80, 10, 3, 37, 1, 13, 14, 1, 113]\n",
      "[112, 2, 10, 37, 1, 13, 114]\n",
      "[22, 3, 37, 24, 14, 1, 113, 9, 3, 19, 38, 4, 79, 16, 1, 50, 204]\n",
      "[48, 49, 2, 26, 1, 25, 2, 9, 19, 38, 4, 79, 16, 1, 50, 205, 14, 39, 81]\n",
      "[30, 28, 3, 8, 4, 115, 1, 82]\n",
      "[2, 83, 8, 4, 115, 1, 82, 27, 9, 206, 2, 116, 1, 207, 2, 8, 4, 208, 209, 1, 82, 210]\n",
      "[9, 27, 28, 75, 99, 14, 1, 13]\n",
      "[48]\n",
      "[30, 10, 27, 63, 2]\n",
      "[2, 10, 61, 64, 65, 84, 33, 117, 60]\n",
      "[25, 118, 119, 211]\n",
      "[30, 28, 27, 8, 4, 26, 35, 69, 39, 212, 213, 66, 40]\n",
      "[2, 8, 4, 26, 16, 39, 44, 69, 18, 35, 40, 76, 7, 1, 120, 15, 35, 40, 77, 100, 33, 14]\n",
      "[10, 27, 24, 1, 121, 214, 6, 31, 55, 16, 65, 49]\n",
      "[215, 103, 1, 13, 94, 5, 44, 29, 95]\n",
      "[11, 7, 1, 85, 6, 44, 29, 122, 22, 3, 24, 18, 86, 87, 216, 28, 3, 8, 4, 24, 123, 18, 217, 51, 66, 86, 51]\n",
      "[86, 51, 1, 85, 88, 7, 218, 124, 62, 1, 125, 2, 26, 1, 25, 32, 219, 2, 10, 37, 114, 2, 83, 8, 4, 220, 15, 5, 45, 4, 221]\n",
      "[11, 22, 3, 83, 222, 1, 12, 89, 223, 1, 25, 11, 7, 1, 126, 224]\n",
      "[2, 47, 5, 54, 124, 126, 88, 62, 1, 125, 2, 8, 225, 1, 25]\n",
      "[3, 23, 127, 128, 129, 20, 3, 23, 46, 38, 4, 26, 1, 25, 18, 1, 40, 11, 130, 3, 28]\n",
      "[2, 8, 4, 63, 64, 59, 131, 5, 61, 65, 84, 33, 117, 60]\n",
      "[226, 118, 132]\n",
      "[90, 227, 10, 3, 228, 1, 36, 133, 18, 1, 40]\n",
      "[21, 229, 7, 230, 32, 134, 231, 2, 10, 57, 1, 133, 90, 39, 29, 7, 232, 122, 2, 8, 233, 29, 18, 91, 87, 2, 9, 19, 38, 4, 57, 16, 1, 50, 36, 17, 14, 1, 88, 6, 91, 87, 4, 234, 51, 135, 89, 91, 51, 2, 9, 8, 4, 235, 1, 29, 123]\n",
      "[135, 49, 1, 12, 7, 236, 20, 2, 8, 36, 64, 31, 55, 66, 54, 237, 6, 31, 70, 2, 9, 19, 38, 4, 57, 1, 36, 17, 90, 238, 239]\n",
      "[240, 241, 85, 7, 46, 136]\n",
      "[242, 6, 1, 243, 12, 42]\n",
      "[30, 10, 3, 244, 245, 14, 75, 6, 5, 67, 89, 1, 34]\n",
      "[2, 9, 8, 4, 246, 5, 58, 137, 136, 14, 39, 81, 20, 35, 247, 9, 63, 2, 15, 5, 138, 18, 138, 67, 139, 34]\n",
      "[22, 3, 37, 1, 13, 80, 10, 3, 248, 249, 50, 140, 250]\n",
      "[48, 141, 251, 50, 140, 67, 14, 1, 67, 139, 58, 137]\n",
      "[3, 23, 127, 128, 129, 20, 3, 23, 46, 38, 4, 26, 1, 25, 18, 1, 40, 11, 130, 3, 28]\n",
      "[2, 8, 4, 63, 64, 59, 131, 5, 61, 65, 84, 33, 252, 60]\n",
      "[142, 20, 41, 52, 119, 132]\n",
      "[11, 7, 1, 253, 4, 47, 1, 142]\n",
      "[254, 56, 110, 255]\n",
      "[2, 8, 4, 24, 1, 121, 42, 6, 31, 55]\n",
      "[2, 8, 4, 256, 16, 1, 12, 257]\n",
      "[3, 23, 258, 80, 111, 10, 3, 24, 25, 6, 1, 143, 73]\n",
      "[2, 9, 47, 5, 120, 4, 24, 42, 6, 143, 73, 14, 39, 81, 49, 2, 24, 15, 1, 259, 45]\n",
      "[3, 8, 134, 92, 41, 52, 7, 5, 78, 6, 21, 13, 11, 144, 145, 41, 52]\n",
      "[21, 7, 4, 260, 92, 41, 52, 261, 46, 262, 41, 146, 32, 27, 263, 146, 2, 264, 265, 66, 15, 92, 266, 107, 267, 268, 32, 22, 2, 56, 269, 4, 37, 21, 12, 141, 15, 270, 3, 23, 271, 2, 9, 19, 272, 76, 7, 11, 144, 145, 41, 52]\n",
      "[273, 274, 17]\n",
      "[275, 276, 17]\n",
      "[17, 116, 277, 278]\n",
      "[279, 18, 280, 281, 282]\n",
      "[]\n"
     ]
    }
   ],
   "source": [
    "for sentence in faqs.split('\\n'):\n",
    "    print(tokenizer.texts_to_sequences([sentence])[0])"
   ]
  },
  {
   "cell_type": "code",
   "execution_count": 10,
   "id": "6e01c475",
   "metadata": {
    "execution": {
     "iopub.execute_input": "2025-03-09T14:52:42.561743Z",
     "iopub.status.busy": "2025-03-09T14:52:42.561372Z",
     "iopub.status.idle": "2025-03-09T14:52:42.568453Z",
     "shell.execute_reply": "2025-03-09T14:52:42.567372Z"
    },
    "papermill": {
     "duration": 0.016985,
     "end_time": "2025-03-09T14:52:42.570590",
     "exception": false,
     "start_time": "2025-03-09T14:52:42.553605",
     "status": "completed"
    },
    "tags": []
   },
   "outputs": [],
   "source": [
    "input_sequences = []\n",
    "for sentence in faqs.split('\\n'):\n",
    "    tokenized_sentence = tokenizer.texts_to_sequences([sentence])[0]\n",
    "\n",
    "    for i in range(1, len(tokenized_sentence)):\n",
    "        input_sequences.append(tokenized_sentence[:i+1])"
   ]
  },
  {
   "cell_type": "code",
   "execution_count": 11,
   "id": "ddcee37d",
   "metadata": {
    "execution": {
     "iopub.execute_input": "2025-03-09T14:52:42.585484Z",
     "iopub.status.busy": "2025-03-09T14:52:42.585067Z",
     "iopub.status.idle": "2025-03-09T14:52:42.589272Z",
     "shell.execute_reply": "2025-03-09T14:52:42.588285Z"
    },
    "papermill": {
     "duration": 0.013976,
     "end_time": "2025-03-09T14:52:42.591294",
     "exception": false,
     "start_time": "2025-03-09T14:52:42.577318",
     "status": "completed"
    },
    "tags": []
   },
   "outputs": [],
   "source": [
    "#input_sequences"
   ]
  },
  {
   "cell_type": "code",
   "execution_count": 12,
   "id": "4aae31f3",
   "metadata": {
    "execution": {
     "iopub.execute_input": "2025-03-09T14:52:42.605940Z",
     "iopub.status.busy": "2025-03-09T14:52:42.605591Z",
     "iopub.status.idle": "2025-03-09T14:52:42.609935Z",
     "shell.execute_reply": "2025-03-09T14:52:42.608952Z"
    },
    "papermill": {
     "duration": 0.014139,
     "end_time": "2025-03-09T14:52:42.611996",
     "exception": false,
     "start_time": "2025-03-09T14:52:42.597857",
     "status": "completed"
    },
    "tags": []
   },
   "outputs": [],
   "source": [
    "# when you do a supervised learning tasks, the shape of the input rows has to be same. \n",
    "# So, in order to do that, applying zero padding."
   ]
  },
  {
   "cell_type": "code",
   "execution_count": 13,
   "id": "2fafb90a",
   "metadata": {
    "execution": {
     "iopub.execute_input": "2025-03-09T14:52:42.627562Z",
     "iopub.status.busy": "2025-03-09T14:52:42.626455Z",
     "iopub.status.idle": "2025-03-09T14:52:42.633535Z",
     "shell.execute_reply": "2025-03-09T14:52:42.632508Z"
    },
    "papermill": {
     "duration": 0.017199,
     "end_time": "2025-03-09T14:52:42.635825",
     "exception": false,
     "start_time": "2025-03-09T14:52:42.618626",
     "status": "completed"
    },
    "tags": []
   },
   "outputs": [
    {
     "data": {
      "text/plain": [
       "57"
      ]
     },
     "execution_count": 13,
     "metadata": {},
     "output_type": "execute_result"
    }
   ],
   "source": [
    "max_len = max([len(x) for x in input_sequences])\n",
    "max_len"
   ]
  },
  {
   "cell_type": "code",
   "execution_count": 14,
   "id": "dd10cde4",
   "metadata": {
    "execution": {
     "iopub.execute_input": "2025-03-09T14:52:42.651429Z",
     "iopub.status.busy": "2025-03-09T14:52:42.650979Z",
     "iopub.status.idle": "2025-03-09T14:52:42.659582Z",
     "shell.execute_reply": "2025-03-09T14:52:42.658289Z"
    },
    "papermill": {
     "duration": 0.019132,
     "end_time": "2025-03-09T14:52:42.661759",
     "exception": false,
     "start_time": "2025-03-09T14:52:42.642627",
     "status": "completed"
    },
    "tags": []
   },
   "outputs": [],
   "source": [
    "from tensorflow.keras.preprocessing.sequence import pad_sequences\n",
    "padded_input_sequences = pad_sequences(input_sequences, maxlen = max_len, padding = 'pre')"
   ]
  },
  {
   "cell_type": "code",
   "execution_count": 15,
   "id": "9fabfbf6",
   "metadata": {
    "execution": {
     "iopub.execute_input": "2025-03-09T14:52:42.677018Z",
     "iopub.status.busy": "2025-03-09T14:52:42.676645Z",
     "iopub.status.idle": "2025-03-09T14:52:42.683685Z",
     "shell.execute_reply": "2025-03-09T14:52:42.682634Z"
    },
    "papermill": {
     "duration": 0.017016,
     "end_time": "2025-03-09T14:52:42.685655",
     "exception": false,
     "start_time": "2025-03-09T14:52:42.668639",
     "status": "completed"
    },
    "tags": []
   },
   "outputs": [
    {
     "data": {
      "text/plain": [
       "array([[  0,   0,   0, ...,   0,  93,   1],\n",
       "       [  0,   0,   0, ...,  93,   1,  13],\n",
       "       [  0,   0,   0, ...,   0,  11,   7],\n",
       "       ...,\n",
       "       [  0,   0,   0, ..., 279,  18, 280],\n",
       "       [  0,   0,   0, ...,  18, 280, 281],\n",
       "       [  0,   0,   0, ..., 280, 281, 282]], dtype=int32)"
      ]
     },
     "execution_count": 15,
     "metadata": {},
     "output_type": "execute_result"
    }
   ],
   "source": [
    "padded_input_sequences"
   ]
  },
  {
   "cell_type": "code",
   "execution_count": 16,
   "id": "1ca94c11",
   "metadata": {
    "execution": {
     "iopub.execute_input": "2025-03-09T14:52:42.700590Z",
     "iopub.status.busy": "2025-03-09T14:52:42.700198Z",
     "iopub.status.idle": "2025-03-09T14:52:42.707412Z",
     "shell.execute_reply": "2025-03-09T14:52:42.706350Z"
    },
    "papermill": {
     "duration": 0.017073,
     "end_time": "2025-03-09T14:52:42.709444",
     "exception": false,
     "start_time": "2025-03-09T14:52:42.692371",
     "status": "completed"
    },
    "tags": []
   },
   "outputs": [
    {
     "data": {
      "text/plain": [
       "array([[  0,   0,   0, ...,   0,   0,  93],\n",
       "       [  0,   0,   0, ...,   0,  93,   1],\n",
       "       [  0,   0,   0, ...,   0,   0,  11],\n",
       "       ...,\n",
       "       [  0,   0,   0, ...,   0, 279,  18],\n",
       "       [  0,   0,   0, ..., 279,  18, 280],\n",
       "       [  0,   0,   0, ...,  18, 280, 281]], dtype=int32)"
      ]
     },
     "execution_count": 16,
     "metadata": {},
     "output_type": "execute_result"
    }
   ],
   "source": [
    "X = padded_input_sequences[:,:-1]\n",
    "X"
   ]
  },
  {
   "cell_type": "code",
   "execution_count": 17,
   "id": "25c40e7c",
   "metadata": {
    "execution": {
     "iopub.execute_input": "2025-03-09T14:52:42.724862Z",
     "iopub.status.busy": "2025-03-09T14:52:42.724498Z",
     "iopub.status.idle": "2025-03-09T14:52:42.732985Z",
     "shell.execute_reply": "2025-03-09T14:52:42.731887Z"
    },
    "papermill": {
     "duration": 0.018787,
     "end_time": "2025-03-09T14:52:42.735201",
     "exception": false,
     "start_time": "2025-03-09T14:52:42.716414",
     "status": "completed"
    },
    "tags": []
   },
   "outputs": [
    {
     "data": {
      "text/plain": [
       "array([  1,  13,   7,   1,  12,  42,  15,  43,  53,  68,  13, 147, 148,\n",
       "        12,  94,   5,  44,  29,  95,  30,   2,   8,   4,  26,  44,  69,\n",
       "         6,  31,  70,  45,   7,   1,  71,  72,   6,   1,  12,  71,  72,\n",
       "         6,   1,  12,   7,  54,  73,  32,   1,  71,  12,  42, 149,  70,\n",
       "        54,  31,  55, 150,   7,   1,  96,   6,   1,  68,  13,   9,  19,\n",
       "       151,   1, 152, 153, 154, 155,  15,  43,  53, 156,  15,  43,  53,\n",
       "        15, 159,  74, 160,  98,  99,  10, 163,   1, 164,  96,  76,  77,\n",
       "       100,  33,  14, 165,  33,  43,  53,  68,  13, 166, 101,  74,  20,\n",
       "       102,  19,   5,  78,   6,  21,  13, 102,  20, 101,  74, 167,  56,\n",
       "        46,   5,  78,   6,  21, 168, 169,  22,   3, 104,   5, 105,  34,\n",
       "         9,   3,  47,   5, 106,   6,   1,  34,  16,  35,  17,  56, 170,\n",
       "        32, 107,  22,   2, 104,   5,  34,   2,  10, 171, 172,  20,  57,\n",
       "         1, 106,  10,   3, 173,   1, 108, 174,  21,  58, 176,   4,  79,\n",
       "        45,  59,  45, 109, 177,   6,   1,  12,  77, 178,  58,  60, 179,\n",
       "       180, 181, 182, 183, 184, 185,   7,   1, 109,  72,   6,  16,   1,\n",
       "       105,  17,  16,   1,  17, 187, 110, 188,   7,   1, 189, 190,  59,\n",
       "         1, 191, 192,   1,  17,   9,   3,  19, 194,  93,   1, 195, 108,\n",
       "         9,  47,   5,  61,  62,  35, 196, 197, 198,  36,  34,  49,   2,\n",
       "       199,   5,  36, 200,   3,  28,  21,  12,  22,   3,  23,  62,   5,\n",
       "       201, 202, 203, 112,  23,  80,  10,   3,  37,   1,  13,  14,   1,\n",
       "       113,   2,  10,  37,   1,  13, 114,   3,  37,  24,  14,   1, 113,\n",
       "         9,   3,  19,  38,   4,  79,  16,   1,  50, 204,  49,   2,  26,\n",
       "         1,  25,   2,   9,  19,  38,   4,  79,  16,   1,  50, 205,  14,\n",
       "        39,  81,  28,   3,   8,   4, 115,   1,  82,  83,   8,   4, 115,\n",
       "         1,  82,  27,   9, 206,   2, 116,   1, 207,   2,   8,   4, 208,\n",
       "       209,   1,  82, 210,  27,  28,  75,  99,  14,   1,  13,  10,  27,\n",
       "        63,   2,  10,  61,  64,  65,  84,  33, 117,  60, 118, 119, 211,\n",
       "        28,  27,   8,   4,  26,  35,  69,  39, 212, 213,  66,  40,   8,\n",
       "         4,  26,  16,  39,  44,  69,  18,  35,  40,  76,   7,   1, 120,\n",
       "        15,  35,  40,  77, 100,  33,  14,  27,  24,   1, 121, 214,   6,\n",
       "        31,  55,  16,  65,  49, 103,   1,  13,  94,   5,  44,  29,  95,\n",
       "         7,   1,  85,   6,  44,  29, 122,  22,   3,  24,  18,  86,  87,\n",
       "       216,  28,   3,   8,   4,  24, 123,  18, 217,  51,  66,  86,  51,\n",
       "        51,   1,  85,  88,   7, 218, 124,  62,   1, 125,   2,  26,   1,\n",
       "        25,  32, 219,   2,  10,  37, 114,   2,  83,   8,   4, 220,  15,\n",
       "         5,  45,   4, 221,  22,   3,  83, 222,   1,  12,  89, 223,   1,\n",
       "        25,  11,   7,   1, 126, 224,  47,   5,  54, 124, 126,  88,  62,\n",
       "         1, 125,   2,   8, 225,   1,  25,  23, 127, 128, 129,  20,   3,\n",
       "        23,  46,  38,   4,  26,   1,  25,  18,   1,  40,  11, 130,   3,\n",
       "        28,   8,   4,  63,  64,  59, 131,   5,  61,  65,  84,  33, 117,\n",
       "        60, 118, 132, 227,  10,   3, 228,   1,  36, 133,  18,   1,  40,\n",
       "       229,   7, 230,  32, 134, 231,   2,  10,  57,   1, 133,  90,  39,\n",
       "        29,   7, 232, 122,   2,   8, 233,  29,  18,  91,  87,   2,   9,\n",
       "        19,  38,   4,  57,  16,   1,  50,  36,  17,  14,   1,  88,   6,\n",
       "        91,  87,   4, 234,  51, 135,  89,  91,  51,   2,   9,   8,   4,\n",
       "       235,   1,  29, 123,  49,   1,  12,   7, 236,  20,   2,   8,  36,\n",
       "        64,  31,  55,  66,  54, 237,   6,  31,  70,   2,   9,  19,  38,\n",
       "         4,  57,   1,  36,  17,  90, 238, 239, 241,  85,   7,  46, 136,\n",
       "         6,   1, 243,  12,  42,  10,   3, 244, 245,  14,  75,   6,   5,\n",
       "        67,  89,   1,  34,   9,   8,   4, 246,   5,  58, 137, 136,  14,\n",
       "        39,  81,  20,  35, 247,   9,  63,   2,  15,   5, 138,  18, 138,\n",
       "        67, 139,  34,   3,  37,   1,  13,  80,  10,   3, 248, 249,  50,\n",
       "       140, 250, 141, 251,  50, 140,  67,  14,   1,  67, 139,  58, 137,\n",
       "        23, 127, 128, 129,  20,   3,  23,  46,  38,   4,  26,   1,  25,\n",
       "        18,   1,  40,  11, 130,   3,  28,   8,   4,  63,  64,  59, 131,\n",
       "         5,  61,  65,  84,  33, 252,  60,  20,  41,  52, 119, 132,   7,\n",
       "         1, 253,   4,  47,   1, 142,  56, 110, 255,   8,   4,  24,   1,\n",
       "       121,  42,   6,  31,  55,   8,   4, 256,  16,   1,  12, 257,  23,\n",
       "       258,  80, 111,  10,   3,  24,  25,   6,   1, 143,  73,   9,  47,\n",
       "         5, 120,   4,  24,  42,   6, 143,  73,  14,  39,  81,  49,   2,\n",
       "        24,  15,   1, 259,  45,   8, 134,  92,  41,  52,   7,   5,  78,\n",
       "         6,  21,  13,  11, 144, 145,  41,  52,   7,   4, 260,  92,  41,\n",
       "        52, 261,  46, 262,  41, 146,  32,  27, 263, 146,   2, 264, 265,\n",
       "        66,  15,  92, 266, 107, 267, 268,  32,  22,   2,  56, 269,   4,\n",
       "        37,  21,  12, 141,  15, 270,   3,  23, 271,   2,   9,  19, 272,\n",
       "        76,   7,  11, 144, 145,  41,  52, 274,  17, 276,  17, 116, 277,\n",
       "       278,  18, 280, 281, 282], dtype=int32)"
      ]
     },
     "execution_count": 17,
     "metadata": {},
     "output_type": "execute_result"
    }
   ],
   "source": [
    "y = padded_input_sequences[:,-1]\n",
    "y"
   ]
  },
  {
   "cell_type": "code",
   "execution_count": 18,
   "id": "bf21ebf5",
   "metadata": {
    "execution": {
     "iopub.execute_input": "2025-03-09T14:52:42.751244Z",
     "iopub.status.busy": "2025-03-09T14:52:42.750527Z",
     "iopub.status.idle": "2025-03-09T14:52:42.757118Z",
     "shell.execute_reply": "2025-03-09T14:52:42.755862Z"
    },
    "papermill": {
     "duration": 0.017241,
     "end_time": "2025-03-09T14:52:42.759455",
     "exception": false,
     "start_time": "2025-03-09T14:52:42.742214",
     "status": "completed"
    },
    "tags": []
   },
   "outputs": [
    {
     "data": {
      "text/plain": [
       "(863, 56)"
      ]
     },
     "execution_count": 18,
     "metadata": {},
     "output_type": "execute_result"
    }
   ],
   "source": [
    "X.shape"
   ]
  },
  {
   "cell_type": "code",
   "execution_count": 19,
   "id": "ed61455f",
   "metadata": {
    "execution": {
     "iopub.execute_input": "2025-03-09T14:52:42.775048Z",
     "iopub.status.busy": "2025-03-09T14:52:42.774710Z",
     "iopub.status.idle": "2025-03-09T14:52:42.780966Z",
     "shell.execute_reply": "2025-03-09T14:52:42.780054Z"
    },
    "papermill": {
     "duration": 0.016308,
     "end_time": "2025-03-09T14:52:42.782941",
     "exception": false,
     "start_time": "2025-03-09T14:52:42.766633",
     "status": "completed"
    },
    "tags": []
   },
   "outputs": [
    {
     "data": {
      "text/plain": [
       "(863,)"
      ]
     },
     "execution_count": 19,
     "metadata": {},
     "output_type": "execute_result"
    }
   ],
   "source": [
    "y.shape"
   ]
  },
  {
   "cell_type": "code",
   "execution_count": 20,
   "id": "a318b599",
   "metadata": {
    "execution": {
     "iopub.execute_input": "2025-03-09T14:52:42.798885Z",
     "iopub.status.busy": "2025-03-09T14:52:42.798541Z",
     "iopub.status.idle": "2025-03-09T14:52:42.805640Z",
     "shell.execute_reply": "2025-03-09T14:52:42.804788Z"
    },
    "papermill": {
     "duration": 0.01739,
     "end_time": "2025-03-09T14:52:42.807585",
     "exception": false,
     "start_time": "2025-03-09T14:52:42.790195",
     "status": "completed"
    },
    "tags": []
   },
   "outputs": [],
   "source": [
    "from tensorflow.keras.utils import to_categorical\n",
    "y = to_categorical(y, num_classes = 283)"
   ]
  },
  {
   "cell_type": "code",
   "execution_count": 21,
   "id": "0d8db713",
   "metadata": {
    "execution": {
     "iopub.execute_input": "2025-03-09T14:52:42.823706Z",
     "iopub.status.busy": "2025-03-09T14:52:42.823333Z",
     "iopub.status.idle": "2025-03-09T14:52:42.829736Z",
     "shell.execute_reply": "2025-03-09T14:52:42.828640Z"
    },
    "papermill": {
     "duration": 0.017108,
     "end_time": "2025-03-09T14:52:42.831791",
     "exception": false,
     "start_time": "2025-03-09T14:52:42.814683",
     "status": "completed"
    },
    "tags": []
   },
   "outputs": [
    {
     "data": {
      "text/plain": [
       "(863, 283)"
      ]
     },
     "execution_count": 21,
     "metadata": {},
     "output_type": "execute_result"
    }
   ],
   "source": [
    "y.shape"
   ]
  },
  {
   "cell_type": "code",
   "execution_count": 22,
   "id": "eac6a7ab",
   "metadata": {
    "execution": {
     "iopub.execute_input": "2025-03-09T14:52:42.847639Z",
     "iopub.status.busy": "2025-03-09T14:52:42.847262Z",
     "iopub.status.idle": "2025-03-09T14:52:42.855377Z",
     "shell.execute_reply": "2025-03-09T14:52:42.854422Z"
    },
    "papermill": {
     "duration": 0.018485,
     "end_time": "2025-03-09T14:52:42.857466",
     "exception": false,
     "start_time": "2025-03-09T14:52:42.838981",
     "status": "completed"
    },
    "tags": []
   },
   "outputs": [
    {
     "data": {
      "text/plain": [
       "array([[0., 1., 0., ..., 0., 0., 0.],\n",
       "       [0., 0., 0., ..., 0., 0., 0.],\n",
       "       [0., 0., 0., ..., 0., 0., 0.],\n",
       "       ...,\n",
       "       [0., 0., 0., ..., 1., 0., 0.],\n",
       "       [0., 0., 0., ..., 0., 1., 0.],\n",
       "       [0., 0., 0., ..., 0., 0., 1.]])"
      ]
     },
     "execution_count": 22,
     "metadata": {},
     "output_type": "execute_result"
    }
   ],
   "source": [
    "y"
   ]
  },
  {
   "cell_type": "code",
   "execution_count": 23,
   "id": "8ee55814",
   "metadata": {
    "execution": {
     "iopub.execute_input": "2025-03-09T14:52:42.873852Z",
     "iopub.status.busy": "2025-03-09T14:52:42.873466Z",
     "iopub.status.idle": "2025-03-09T14:52:42.877643Z",
     "shell.execute_reply": "2025-03-09T14:52:42.876756Z"
    },
    "papermill": {
     "duration": 0.01481,
     "end_time": "2025-03-09T14:52:42.879653",
     "exception": false,
     "start_time": "2025-03-09T14:52:42.864843",
     "status": "completed"
    },
    "tags": []
   },
   "outputs": [],
   "source": [
    "# NOW WE ARE READY WITH OUR TRAINING DATA \n",
    "# LET'S CREATE THE MODEL AND FEED IN THE DATA IN NEXT SESSION."
   ]
  },
  {
   "cell_type": "code",
   "execution_count": 24,
   "id": "70bdab04",
   "metadata": {
    "execution": {
     "iopub.execute_input": "2025-03-09T14:52:42.895684Z",
     "iopub.status.busy": "2025-03-09T14:52:42.895284Z",
     "iopub.status.idle": "2025-03-09T14:52:42.902323Z",
     "shell.execute_reply": "2025-03-09T14:52:42.901385Z"
    },
    "papermill": {
     "duration": 0.017376,
     "end_time": "2025-03-09T14:52:42.904306",
     "exception": false,
     "start_time": "2025-03-09T14:52:42.886930",
     "status": "completed"
    },
    "tags": []
   },
   "outputs": [],
   "source": [
    "\n",
    "from tensorflow.keras.models import Sequential\n",
    "from tensorflow.keras.layers import Embedding, LSTM, Dense"
   ]
  },
  {
   "cell_type": "code",
   "execution_count": 25,
   "id": "e9109296",
   "metadata": {
    "execution": {
     "iopub.execute_input": "2025-03-09T14:52:42.920467Z",
     "iopub.status.busy": "2025-03-09T14:52:42.920055Z",
     "iopub.status.idle": "2025-03-09T14:52:43.046680Z",
     "shell.execute_reply": "2025-03-09T14:52:43.045431Z"
    },
    "papermill": {
     "duration": 0.137415,
     "end_time": "2025-03-09T14:52:43.049037",
     "exception": false,
     "start_time": "2025-03-09T14:52:42.911622",
     "status": "completed"
    },
    "tags": []
   },
   "outputs": [],
   "source": [
    "from tensorflow.keras.layers import Input\n",
    "\n",
    "model = Sequential()\n",
    "model.add(Input(shape=(56,)))  # Explicit input shape\n",
    "model.add(Embedding(input_dim=283, output_dim=100))\n",
    "model.add(LSTM(150))\n",
    "model.add(Dense(283, activation='softmax'))\n"
   ]
  },
  {
   "cell_type": "code",
   "execution_count": 26,
   "id": "e0c1adcf",
   "metadata": {
    "execution": {
     "iopub.execute_input": "2025-03-09T14:52:43.065750Z",
     "iopub.status.busy": "2025-03-09T14:52:43.065361Z",
     "iopub.status.idle": "2025-03-09T14:52:43.079808Z",
     "shell.execute_reply": "2025-03-09T14:52:43.078901Z"
    },
    "papermill": {
     "duration": 0.025514,
     "end_time": "2025-03-09T14:52:43.082068",
     "exception": false,
     "start_time": "2025-03-09T14:52:43.056554",
     "status": "completed"
    },
    "tags": []
   },
   "outputs": [],
   "source": [
    "model.compile(loss = 'categorical_crossentropy', optimizer = 'adam', metrics = ['accuracy'])"
   ]
  },
  {
   "cell_type": "code",
   "execution_count": 27,
   "id": "35fb2b00",
   "metadata": {
    "execution": {
     "iopub.execute_input": "2025-03-09T14:52:43.098453Z",
     "iopub.status.busy": "2025-03-09T14:52:43.098008Z",
     "iopub.status.idle": "2025-03-09T14:52:43.117322Z",
     "shell.execute_reply": "2025-03-09T14:52:43.116312Z"
    },
    "papermill": {
     "duration": 0.030021,
     "end_time": "2025-03-09T14:52:43.119524",
     "exception": false,
     "start_time": "2025-03-09T14:52:43.089503",
     "status": "completed"
    },
    "tags": []
   },
   "outputs": [
    {
     "data": {
      "text/html": [
       "<pre style=\"white-space:pre;overflow-x:auto;line-height:normal;font-family:Menlo,'DejaVu Sans Mono',consolas,'Courier New',monospace\"><span style=\"font-weight: bold\">Model: \"sequential\"</span>\n",
       "</pre>\n"
      ],
      "text/plain": [
       "\u001b[1mModel: \"sequential\"\u001b[0m\n"
      ]
     },
     "metadata": {},
     "output_type": "display_data"
    },
    {
     "data": {
      "text/html": [
       "<pre style=\"white-space:pre;overflow-x:auto;line-height:normal;font-family:Menlo,'DejaVu Sans Mono',consolas,'Courier New',monospace\">┏━━━━━━━━━━━━━━━━━━━━━━━━━━━━━━━━━┳━━━━━━━━━━━━━━━━━━━━━━━━┳━━━━━━━━━━━━━━━┓\n",
       "┃<span style=\"font-weight: bold\"> Layer (type)                    </span>┃<span style=\"font-weight: bold\"> Output Shape           </span>┃<span style=\"font-weight: bold\">       Param # </span>┃\n",
       "┡━━━━━━━━━━━━━━━━━━━━━━━━━━━━━━━━━╇━━━━━━━━━━━━━━━━━━━━━━━━╇━━━━━━━━━━━━━━━┩\n",
       "│ embedding (<span style=\"color: #0087ff; text-decoration-color: #0087ff\">Embedding</span>)           │ (<span style=\"color: #00d7ff; text-decoration-color: #00d7ff\">None</span>, <span style=\"color: #00af00; text-decoration-color: #00af00\">56</span>, <span style=\"color: #00af00; text-decoration-color: #00af00\">100</span>)        │        <span style=\"color: #00af00; text-decoration-color: #00af00\">28,300</span> │\n",
       "├─────────────────────────────────┼────────────────────────┼───────────────┤\n",
       "│ lstm (<span style=\"color: #0087ff; text-decoration-color: #0087ff\">LSTM</span>)                     │ (<span style=\"color: #00d7ff; text-decoration-color: #00d7ff\">None</span>, <span style=\"color: #00af00; text-decoration-color: #00af00\">150</span>)            │       <span style=\"color: #00af00; text-decoration-color: #00af00\">150,600</span> │\n",
       "├─────────────────────────────────┼────────────────────────┼───────────────┤\n",
       "│ dense (<span style=\"color: #0087ff; text-decoration-color: #0087ff\">Dense</span>)                   │ (<span style=\"color: #00d7ff; text-decoration-color: #00d7ff\">None</span>, <span style=\"color: #00af00; text-decoration-color: #00af00\">283</span>)            │        <span style=\"color: #00af00; text-decoration-color: #00af00\">42,733</span> │\n",
       "└─────────────────────────────────┴────────────────────────┴───────────────┘\n",
       "</pre>\n"
      ],
      "text/plain": [
       "┏━━━━━━━━━━━━━━━━━━━━━━━━━━━━━━━━━┳━━━━━━━━━━━━━━━━━━━━━━━━┳━━━━━━━━━━━━━━━┓\n",
       "┃\u001b[1m \u001b[0m\u001b[1mLayer (type)                   \u001b[0m\u001b[1m \u001b[0m┃\u001b[1m \u001b[0m\u001b[1mOutput Shape          \u001b[0m\u001b[1m \u001b[0m┃\u001b[1m \u001b[0m\u001b[1m      Param #\u001b[0m\u001b[1m \u001b[0m┃\n",
       "┡━━━━━━━━━━━━━━━━━━━━━━━━━━━━━━━━━╇━━━━━━━━━━━━━━━━━━━━━━━━╇━━━━━━━━━━━━━━━┩\n",
       "│ embedding (\u001b[38;5;33mEmbedding\u001b[0m)           │ (\u001b[38;5;45mNone\u001b[0m, \u001b[38;5;34m56\u001b[0m, \u001b[38;5;34m100\u001b[0m)        │        \u001b[38;5;34m28,300\u001b[0m │\n",
       "├─────────────────────────────────┼────────────────────────┼───────────────┤\n",
       "│ lstm (\u001b[38;5;33mLSTM\u001b[0m)                     │ (\u001b[38;5;45mNone\u001b[0m, \u001b[38;5;34m150\u001b[0m)            │       \u001b[38;5;34m150,600\u001b[0m │\n",
       "├─────────────────────────────────┼────────────────────────┼───────────────┤\n",
       "│ dense (\u001b[38;5;33mDense\u001b[0m)                   │ (\u001b[38;5;45mNone\u001b[0m, \u001b[38;5;34m283\u001b[0m)            │        \u001b[38;5;34m42,733\u001b[0m │\n",
       "└─────────────────────────────────┴────────────────────────┴───────────────┘\n"
      ]
     },
     "metadata": {},
     "output_type": "display_data"
    },
    {
     "data": {
      "text/html": [
       "<pre style=\"white-space:pre;overflow-x:auto;line-height:normal;font-family:Menlo,'DejaVu Sans Mono',consolas,'Courier New',monospace\"><span style=\"font-weight: bold\"> Total params: </span><span style=\"color: #00af00; text-decoration-color: #00af00\">221,633</span> (865.75 KB)\n",
       "</pre>\n"
      ],
      "text/plain": [
       "\u001b[1m Total params: \u001b[0m\u001b[38;5;34m221,633\u001b[0m (865.75 KB)\n"
      ]
     },
     "metadata": {},
     "output_type": "display_data"
    },
    {
     "data": {
      "text/html": [
       "<pre style=\"white-space:pre;overflow-x:auto;line-height:normal;font-family:Menlo,'DejaVu Sans Mono',consolas,'Courier New',monospace\"><span style=\"font-weight: bold\"> Trainable params: </span><span style=\"color: #00af00; text-decoration-color: #00af00\">221,633</span> (865.75 KB)\n",
       "</pre>\n"
      ],
      "text/plain": [
       "\u001b[1m Trainable params: \u001b[0m\u001b[38;5;34m221,633\u001b[0m (865.75 KB)\n"
      ]
     },
     "metadata": {},
     "output_type": "display_data"
    },
    {
     "data": {
      "text/html": [
       "<pre style=\"white-space:pre;overflow-x:auto;line-height:normal;font-family:Menlo,'DejaVu Sans Mono',consolas,'Courier New',monospace\"><span style=\"font-weight: bold\"> Non-trainable params: </span><span style=\"color: #00af00; text-decoration-color: #00af00\">0</span> (0.00 B)\n",
       "</pre>\n"
      ],
      "text/plain": [
       "\u001b[1m Non-trainable params: \u001b[0m\u001b[38;5;34m0\u001b[0m (0.00 B)\n"
      ]
     },
     "metadata": {},
     "output_type": "display_data"
    }
   ],
   "source": [
    "model.summary()"
   ]
  },
  {
   "cell_type": "code",
   "execution_count": 28,
   "id": "ab65170a",
   "metadata": {
    "execution": {
     "iopub.execute_input": "2025-03-09T14:52:43.137328Z",
     "iopub.status.busy": "2025-03-09T14:52:43.136898Z",
     "iopub.status.idle": "2025-03-09T14:53:04.137114Z",
     "shell.execute_reply": "2025-03-09T14:53:04.135956Z"
    },
    "papermill": {
     "duration": 21.011988,
     "end_time": "2025-03-09T14:53:04.139654",
     "exception": false,
     "start_time": "2025-03-09T14:52:43.127666",
     "status": "completed"
    },
    "tags": []
   },
   "outputs": [
    {
     "name": "stdout",
     "output_type": "stream",
     "text": [
      "\u001b[1m1/1\u001b[0m \u001b[32m━━━━━━━━━━━━━━━━━━━━\u001b[0m\u001b[37m\u001b[0m \u001b[1m0s\u001b[0m 247ms/step\n",
      "what is the fee can\n",
      "\u001b[1m1/1\u001b[0m \u001b[32m━━━━━━━━━━━━━━━━━━━━\u001b[0m\u001b[37m\u001b[0m \u001b[1m0s\u001b[0m 28ms/step\n",
      "what is the fee can 30\n",
      "\u001b[1m1/1\u001b[0m \u001b[32m━━━━━━━━━━━━━━━━━━━━\u001b[0m\u001b[37m\u001b[0m \u001b[1m0s\u001b[0m 26ms/step\n",
      "what is the fee can 30 yourself\n",
      "\u001b[1m1/1\u001b[0m \u001b[32m━━━━━━━━━━━━━━━━━━━━\u001b[0m\u001b[37m\u001b[0m \u001b[1m0s\u001b[0m 27ms/step\n",
      "what is the fee can 30 yourself yourself\n",
      "\u001b[1m1/1\u001b[0m \u001b[32m━━━━━━━━━━━━━━━━━━━━\u001b[0m\u001b[37m\u001b[0m \u001b[1m0s\u001b[0m 27ms/step\n",
      "what is the fee can 30 yourself yourself yourself\n",
      "\u001b[1m1/1\u001b[0m \u001b[32m━━━━━━━━━━━━━━━━━━━━\u001b[0m\u001b[37m\u001b[0m \u001b[1m0s\u001b[0m 27ms/step\n",
      "what is the fee can 30 yourself yourself yourself during\n",
      "\u001b[1m1/1\u001b[0m \u001b[32m━━━━━━━━━━━━━━━━━━━━\u001b[0m\u001b[37m\u001b[0m \u001b[1m0s\u001b[0m 27ms/step\n",
      "what is the fee can 30 yourself yourself yourself during so\n",
      "\u001b[1m1/1\u001b[0m \u001b[32m━━━━━━━━━━━━━━━━━━━━\u001b[0m\u001b[37m\u001b[0m \u001b[1m0s\u001b[0m 27ms/step\n",
      "what is the fee can 30 yourself yourself yourself during so learning\n",
      "\u001b[1m1/1\u001b[0m \u001b[32m━━━━━━━━━━━━━━━━━━━━\u001b[0m\u001b[37m\u001b[0m \u001b[1m0s\u001b[0m 28ms/step\n",
      "what is the fee can 30 yourself yourself yourself during so learning spoken\n",
      "\u001b[1m1/1\u001b[0m \u001b[32m━━━━━━━━━━━━━━━━━━━━\u001b[0m\u001b[37m\u001b[0m \u001b[1m0s\u001b[0m 28ms/step\n",
      "what is the fee can 30 yourself yourself yourself during so learning spoken if\n"
     ]
    }
   ],
   "source": [
    "import time\n",
    "import numpy as np\n",
    "text = \"what is the fee\"\n",
    "\n",
    "for i in range(10):\n",
    "  # tokenize\n",
    "  token_text = tokenizer.texts_to_sequences([text])[0]\n",
    "  # padding\n",
    "  padded_token_text = pad_sequences([token_text], maxlen=56, padding='pre')\n",
    "  # predict\n",
    "  pos = np.argmax(model.predict(padded_token_text))\n",
    "\n",
    "  for word,index in tokenizer.word_index.items():\n",
    "    if index == pos:\n",
    "      text = text + \" \" + word\n",
    "      print(text)\n",
    "      time.sleep(2)"
   ]
  },
  {
   "cell_type": "code",
   "execution_count": 29,
   "id": "f7c465e0",
   "metadata": {
    "execution": {
     "iopub.execute_input": "2025-03-09T14:53:04.160805Z",
     "iopub.status.busy": "2025-03-09T14:53:04.160418Z",
     "iopub.status.idle": "2025-03-09T14:53:04.173244Z",
     "shell.execute_reply": "2025-03-09T14:53:04.172255Z"
    },
    "papermill": {
     "duration": 0.025905,
     "end_time": "2025-03-09T14:53:04.175418",
     "exception": false,
     "start_time": "2025-03-09T14:53:04.149513",
     "status": "completed"
    },
    "tags": []
   },
   "outputs": [
    {
     "data": {
      "text/plain": [
       "{'the': 1,\n",
       " 'you': 2,\n",
       " 'i': 3,\n",
       " 'to': 4,\n",
       " 'a': 5,\n",
       " 'of': 6,\n",
       " 'is': 7,\n",
       " 'have': 8,\n",
       " 'will': 9,\n",
       " 'can': 10,\n",
       " 'what': 11,\n",
       " 'course': 12,\n",
       " 'program': 13,\n",
       " 'in': 14,\n",
       " 'for': 15,\n",
       " 'all': 16,\n",
       " 'sessions': 17,\n",
       " 'on': 18,\n",
       " 'be': 19,\n",
       " 'and': 20,\n",
       " 'this': 21,\n",
       " 'if': 22,\n",
       " 'am': 23,\n",
       " 'pay': 24,\n",
       " 'payment': 25,\n",
       " 'make': 26,\n",
       " 'we': 27,\n",
       " 'do': 28,\n",
       " 'subscription': 29,\n",
       " 'where': 30,\n",
       " 'rs': 31,\n",
       " 'so': 32,\n",
       " 'campusx': 33,\n",
       " 'session': 34,\n",
       " 'our': 35,\n",
       " 'paid': 36,\n",
       " 'join': 37,\n",
       " 'able': 38,\n",
       " 'your': 39,\n",
       " 'website': 40,\n",
       " 'placement': 41,\n",
       " 'fee': 42,\n",
       " 'data': 43,\n",
       " 'monthly': 44,\n",
       " 'month': 45,\n",
       " 'not': 46,\n",
       " 'get': 47,\n",
       " 'yes': 48,\n",
       " 'once': 49,\n",
       " 'past': 50,\n",
       " 'feb': 51,\n",
       " 'assistance': 52,\n",
       " 'science': 53,\n",
       " '7': 54,\n",
       " '5600': 55,\n",
       " 'are': 56,\n",
       " 'watch': 57,\n",
       " 'google': 58,\n",
       " 'by': 59,\n",
       " 'com': 60,\n",
       " 'mail': 61,\n",
       " 'from': 62,\n",
       " 'contact': 63,\n",
       " 'us': 64,\n",
       " 'at': 65,\n",
       " 'or': 66,\n",
       " 'doubt': 67,\n",
       " 'mentorship': 68,\n",
       " 'payments': 69,\n",
       " '799': 70,\n",
       " 'total': 71,\n",
       " 'duration': 72,\n",
       " 'months': 73,\n",
       " 'learning': 74,\n",
       " 'case': 75,\n",
       " 'here': 76,\n",
       " 'https': 77,\n",
       " 'part': 78,\n",
       " 'see': 79,\n",
       " 'late': 80,\n",
       " 'dashboard': 81,\n",
       " 'task': 82,\n",
       " 'don’t': 83,\n",
       " 'nitish': 84,\n",
       " 'validity': 85,\n",
       " '15th': 86,\n",
       " 'jan': 87,\n",
       " 'period': 88,\n",
       " 'after': 89,\n",
       " 'till': 90,\n",
       " '21st': 91,\n",
       " 'that': 92,\n",
       " 'about': 93,\n",
       " 'follows': 94,\n",
       " 'model': 95,\n",
       " 'syllabus': 96,\n",
       " 'python': 97,\n",
       " 'ml': 98,\n",
       " 'studies': 99,\n",
       " 'learnwith': 100,\n",
       " 'deep': 101,\n",
       " 'nlp': 102,\n",
       " 'no': 103,\n",
       " 'miss': 104,\n",
       " 'live': 105,\n",
       " 'recording': 106,\n",
       " 'even': 107,\n",
       " 'class': 108,\n",
       " 'time': 109,\n",
       " '2': 110,\n",
       " 'how': 111,\n",
       " 'absolutely': 112,\n",
       " 'middle': 113,\n",
       " 'anytime': 114,\n",
       " 'submit': 115,\n",
       " 'with': 116,\n",
       " 'gmail': 117,\n",
       " 'registration': 118,\n",
       " 'related': 119,\n",
       " 'link': 120,\n",
       " 'entire': 121,\n",
       " 'suppose': 122,\n",
       " 'again': 123,\n",
       " 'days': 124,\n",
       " 'day': 125,\n",
       " 'refund': 126,\n",
       " 'living': 127,\n",
       " 'outside': 128,\n",
       " 'india': 129,\n",
       " 'should': 130,\n",
       " 'sending': 131,\n",
       " 'queries': 132,\n",
       " 'videos': 133,\n",
       " 'read': 134,\n",
       " 'but': 135,\n",
       " 'provided': 136,\n",
       " 'form': 137,\n",
       " '1': 138,\n",
       " 'clearance': 139,\n",
       " 'week': 140,\n",
       " 'just': 141,\n",
       " 'certificate': 142,\n",
       " 'earlier': 143,\n",
       " 'comes': 144,\n",
       " 'under': 145,\n",
       " 'guarantee': 146,\n",
       " 'dsmp': 147,\n",
       " '2023': 148,\n",
       " 'becomes': 149,\n",
       " 'approx': 150,\n",
       " 'covering': 151,\n",
       " 'following': 152,\n",
       " 'modules': 153,\n",
       " 'fundamentals': 154,\n",
       " 'libraries': 155,\n",
       " 'analysis': 156,\n",
       " 'sql': 157,\n",
       " 'maths': 158,\n",
       " 'machine': 159,\n",
       " 'algorithms': 160,\n",
       " 'practical': 161,\n",
       " 'mlops': 162,\n",
       " 'check': 163,\n",
       " 'detailed': 164,\n",
       " 'courses': 165,\n",
       " '637339afe4b0615a1bbed390': 166,\n",
       " 'both': 167,\n",
       " 'program’s': 168,\n",
       " 'curriculum': 169,\n",
       " 'recorded': 170,\n",
       " 'go': 171,\n",
       " 'back': 172,\n",
       " 'find': 173,\n",
       " 'schedule': 174,\n",
       " 'checkout': 175,\n",
       " 'sheet': 176,\n",
       " 'table': 177,\n",
       " 'docs': 178,\n",
       " 'spreadsheets': 179,\n",
       " 'd': 180,\n",
       " '16ootax': 181,\n",
       " 'a6oraecg4emgexhqqpv3noqpyku7rj6arozk': 182,\n",
       " 'edit': 183,\n",
       " 'usp': 184,\n",
       " 'sharing': 185,\n",
       " 'roughly': 186,\n",
       " 'last': 187,\n",
       " 'hours': 188,\n",
       " 'language': 189,\n",
       " 'spoken': 190,\n",
       " 'instructor': 191,\n",
       " 'during': 192,\n",
       " 'hinglish': 193,\n",
       " 'informed': 194,\n",
       " 'upcoming': 195,\n",
       " 'side': 196,\n",
       " 'before': 197,\n",
       " 'every': 198,\n",
       " 'become': 199,\n",
       " 'user': 200,\n",
       " 'non': 201,\n",
       " 'tech': 202,\n",
       " 'background': 203,\n",
       " 'lectures': 204,\n",
       " 'content': 205,\n",
       " 'provide': 206,\n",
       " 'solutions': 207,\n",
       " 'self': 208,\n",
       " 'evaluate': 209,\n",
       " 'yourself': 210,\n",
       " 'questions': 211,\n",
       " 'youtube': 212,\n",
       " 'channel': 213,\n",
       " 'amount': 214,\n",
       " 'unfortunately': 215,\n",
       " 'then': 216,\n",
       " '1st': 217,\n",
       " '30': 218,\n",
       " 'essentially': 219,\n",
       " 'wait': 220,\n",
       " 'end': 221,\n",
       " 'like': 222,\n",
       " 'making': 223,\n",
       " 'policy': 224,\n",
       " 'made': 225,\n",
       " 'post': 226,\n",
       " 'when': 227,\n",
       " 'view': 228,\n",
       " 'one': 229,\n",
       " 'tricky': 230,\n",
       " 'carefully': 231,\n",
       " 'valid': 232,\n",
       " 'purchased': 233,\n",
       " '20th': 234,\n",
       " 'purchase': 235,\n",
       " 'over': 236,\n",
       " 'installments': 237,\n",
       " 'aug': 238,\n",
       " '2024': 239,\n",
       " 'why': 240,\n",
       " 'lifetime': 241,\n",
       " 'because': 242,\n",
       " 'low': 243,\n",
       " 'reach': 244,\n",
       " 'out': 245,\n",
       " 'fill': 246,\n",
       " 'team': 247,\n",
       " 'still': 248,\n",
       " 'ask': 249,\n",
       " 'doubts': 250,\n",
       " 'select': 251,\n",
       " 'gmai': 252,\n",
       " 'criteria': 253,\n",
       " 'there': 254,\n",
       " 'criterias': 255,\n",
       " 'attempt': 256,\n",
       " 'assessments': 257,\n",
       " 'joining': 258,\n",
       " 'current': 259,\n",
       " 'clarify': 260,\n",
       " 'does': 261,\n",
       " 'mean': 262,\n",
       " 'dont': 263,\n",
       " 'any': 264,\n",
       " 'jobs': 265,\n",
       " 'matter': 266,\n",
       " 'interview': 267,\n",
       " 'calls': 268,\n",
       " 'planning': 269,\n",
       " 'placements': 270,\n",
       " 'afraid': 271,\n",
       " 'disappointed': 272,\n",
       " 'portfolio': 273,\n",
       " 'building': 274,\n",
       " 'soft': 275,\n",
       " 'skill': 276,\n",
       " 'industry': 277,\n",
       " 'mentors': 278,\n",
       " 'discussion': 279,\n",
       " 'job': 280,\n",
       " 'hunting': 281,\n",
       " 'strategies': 282}"
      ]
     },
     "execution_count": 29,
     "metadata": {},
     "output_type": "execute_result"
    }
   ],
   "source": [
    "tokenizer.word_index"
   ]
  },
  {
   "cell_type": "code",
   "execution_count": null,
   "id": "47d299f5",
   "metadata": {
    "papermill": {
     "duration": 0.009454,
     "end_time": "2025-03-09T14:53:04.194866",
     "exception": false,
     "start_time": "2025-03-09T14:53:04.185412",
     "status": "completed"
    },
    "tags": []
   },
   "outputs": [],
   "source": []
  }
 ],
 "metadata": {
  "kaggle": {
   "accelerator": "none",
   "dataSources": [],
   "dockerImageVersionId": 30786,
   "isGpuEnabled": false,
   "isInternetEnabled": false,
   "language": "python",
   "sourceType": "notebook"
  },
  "kernelspec": {
   "display_name": "Python 3",
   "language": "python",
   "name": "python3"
  },
  "language_info": {
   "codemirror_mode": {
    "name": "ipython",
    "version": 3
   },
   "file_extension": ".py",
   "mimetype": "text/x-python",
   "name": "python",
   "nbconvert_exporter": "python",
   "pygments_lexer": "ipython3",
   "version": "3.10.14"
  },
  "papermill": {
   "default_parameters": {},
   "duration": 41.687915,
   "end_time": "2025-03-09T14:53:05.628591",
   "environment_variables": {},
   "exception": null,
   "input_path": "__notebook__.ipynb",
   "output_path": "__notebook__.ipynb",
   "parameters": {},
   "start_time": "2025-03-09T14:52:23.940676",
   "version": "2.6.0"
  }
 },
 "nbformat": 4,
 "nbformat_minor": 5
}
