{
 "cells": [
  {
   "cell_type": "raw",
   "id": "ef9273fc",
   "metadata": {
    "_cell_guid": "b1076dfc-b9ad-4769-8c92-a6c4dae69d19",
    "_uuid": "8f2839f25d086af736a60e9eeb907d3b93b6e0e5",
    "papermill": {
     "duration": 0.008861,
     "end_time": "2024-11-06T13:33:33.757143",
     "exception": false,
     "start_time": "2024-11-06T13:33:33.748282",
     "status": "completed"
    },
    "tags": []
   },
   "source": [
    "# This Python 3 environment comes with many helpful analytics libraries installed\n",
    "# It is defined by the kaggle/python Docker image: https://github.com/kaggle/docker-python\n",
    "# For example, here's several helpful packages to load\n",
    "\n",
    "import numpy as np # linear algebra\n",
    "import pandas as pd # data processing, CSV file I/O (e.g. pd.read_csv)\n",
    "\n",
    "# Input data files are available in the read-only \"../input/\" directory\n",
    "# For example, running this (by clicking run or pressing Shift+Enter) will list all files under the input directory\n",
    "\n",
    "import os\n",
    "for dirname, _, filenames in os.walk('/kaggle/input'):\n",
    "    for filename in filenames:\n",
    "        print(os.path.join(dirname, filename))\n",
    "\n",
    "# You can write up to 20GB to the current directory (/kaggle/working/) that gets preserved as output when you create a version using \"Save & Run All\" \n",
    "# You can also write temporary files to /kaggle/temp/, but they won't be saved outside of the current session"
   ]
  },
  {
   "cell_type": "code",
   "execution_count": 1,
   "id": "baaba653",
   "metadata": {
    "execution": {
     "iopub.execute_input": "2024-11-06T13:33:33.776918Z",
     "iopub.status.busy": "2024-11-06T13:33:33.775805Z",
     "iopub.status.idle": "2024-11-06T13:33:33.781086Z",
     "shell.execute_reply": "2024-11-06T13:33:33.780246Z"
    },
    "papermill": {
     "duration": 0.017605,
     "end_time": "2024-11-06T13:33:33.783399",
     "exception": false,
     "start_time": "2024-11-06T13:33:33.765794",
     "status": "completed"
    },
    "tags": []
   },
   "outputs": [],
   "source": [
    "# converting a text generation task into a supervised learning task"
   ]
  },
  {
   "cell_type": "code",
   "execution_count": 2,
   "id": "b94ca8fc",
   "metadata": {
    "execution": {
     "iopub.execute_input": "2024-11-06T13:33:33.802444Z",
     "iopub.status.busy": "2024-11-06T13:33:33.801471Z",
     "iopub.status.idle": "2024-11-06T13:33:33.818862Z",
     "shell.execute_reply": "2024-11-06T13:33:33.817761Z"
    },
    "papermill": {
     "duration": 0.029902,
     "end_time": "2024-11-06T13:33:33.821685",
     "exception": false,
     "start_time": "2024-11-06T13:33:33.791783",
     "status": "completed"
    },
    "tags": []
   },
   "outputs": [],
   "source": [
    "faqs = \"\"\"About the Program\n",
    "What is the course fee for  Data Science Mentorship Program (DSMP 2023)\n",
    "The course follows a monthly subscription model where you have to make monthly payments of Rs 799/month.\n",
    "What is the total duration of the course?\n",
    "The total duration of the course is 7 months. So the total course fee becomes 799*7 = Rs 5600(approx.)\n",
    "What is the syllabus of the mentorship program?\n",
    "We will be covering the following modules:\n",
    "Python Fundamentals\n",
    "Python libraries for Data Science\n",
    "Data Analysis\n",
    "SQL for Data Science\n",
    "Maths for Machine Learning\n",
    "ML Algorithms\n",
    "Practical ML\n",
    "MLOPs\n",
    "Case studies\n",
    "You can check the detailed syllabus here - https://learnwith.campusx.in/courses/CampusX-Data-Science-Mentorship-Program-637339afe4b0615a1bbed390\n",
    "Will Deep Learning and NLP be a part of this program?\n",
    "No, NLP and Deep Learning both are not a part of this program’s curriculum.\n",
    "What if I miss a live session? Will I get a recording of the session?\n",
    "Yes all our sessions are recorded, so even if you miss a session you can go back and watch the recording.\n",
    "Where can I find the class schedule?\n",
    "Checkout this google sheet to see month by month time table of the course - https://docs.google.com/spreadsheets/d/16OoTax_A6ORAeCg4emgexhqqPv3noQPYKU7RJ6ArOzk/edit?usp=sharing.\n",
    "What is the time duration of all the live sessions?\n",
    "Roughly, all the sessions last 2 hours.\n",
    "What is the language spoken by the instructor during the sessions?\n",
    "Hinglish\n",
    "How will I be informed about the upcoming class?\n",
    "You will get a mail from our side before every paid session once you become a paid user.\n",
    "Can I do this course if I am from a non-tech background?\n",
    "Yes, absolutely.\n",
    "I am late, can I join the program in the middle?\n",
    "Absolutely, you can join the program anytime.\n",
    "If I join/pay in the middle, will I be able to see all the past lectures?\n",
    "Yes, once you make the payment you will be able to see all the past content in your dashboard.\n",
    "Where do I have to submit the task?\n",
    "You don’t have to submit the task. We will provide you with the solutions, you have to self evaluate the task yourself.\n",
    "Will we do case studies in the program?\n",
    "Yes.\n",
    "Where can we contact you?\n",
    "You can mail us at nitish.campusx@gmail.com\n",
    "Payment/Registration related questions\n",
    "Where do we have to make our payments? Your YouTube channel or website?\n",
    "You have to make all your monthly payments on our website. Here is the link for our website - https://learnwith.campusx.in/\n",
    "Can we pay the entire amount of Rs 5600 all at once?\n",
    "Unfortunately no, the program follows a monthly subscription model.\n",
    "What is the validity of monthly subscription? Suppose if I pay on 15th Jan, then do I have to pay again on 1st Feb or 15th Feb\n",
    "15th Feb. The validity period is 30 days from the day you make the payment. So essentially you can join anytime you don’t have to wait for a month to end.\n",
    "What if I don’t like the course after making the payment. What is the refund policy?\n",
    "You get a 7 days refund period from the day you have made the payment.\n",
    "I am living outside India and I am not able to make the payment on the website, what should I do?\n",
    "You have to contact us by sending a mail at nitish.campusx@gmail.com\n",
    "Post registration queries\n",
    "Till when can I view the paid videos on the website?\n",
    "This one is tricky, so read carefully. You can watch the videos till your subscription is valid. Suppose you have purchased subscription on 21st Jan, you will be able to watch all the past paid sessions in the period of 21st Jan to 20th Feb. But after 21st Feb you will have to purchase the subscription again.\n",
    "But once the course is over and you have paid us Rs 5600(or 7 installments of Rs 799) you will be able to watch the paid sessions till Aug 2024.\n",
    "Why lifetime validity is not provided?\n",
    "Because of the low course fee.\n",
    "Where can I reach out in case of a doubt after the session?\n",
    "You will have to fill a google form provided in your dashboard and our team will contact you for a 1 on 1 doubt clearance session\n",
    "If I join the program late, can I still ask past week doubts?\n",
    "Yes, just select past week doubt in the doubt clearance google form.\n",
    "I am living outside India and I am not able to make the payment on the website, what should I do?\n",
    "You have to contact us by sending a mail at nitish.campusx@gmai.com\n",
    "Certificate and Placement Assistance related queries\n",
    "What is the criteria to get the certificate?\n",
    "There are 2 criterias:\n",
    "You have to pay the entire fee of Rs 5600\n",
    "You have to attempt all the course assessments.\n",
    "I am joining late. How can I pay payment of the earlier months?\n",
    "You will get a link to pay fee of earlier months in your dashboard once you pay for the current month.\n",
    "I have read that Placement assistance is a part of this program. What comes under Placement assistance?\n",
    "This is to clarify that Placement assistance does not mean Placement guarantee. So we dont guarantee you any jobs or for that matter even interview calls. So if you are planning to join this course just for placements, I am afraid you will be disappointed. Here is what comes under placement assistance\n",
    "Portfolio Building sessions\n",
    "Soft skill sessions\n",
    "Sessions with industry mentors\n",
    "Discussion on Job hunting strategies\n",
    "\"\"\""
   ]
  },
  {
   "cell_type": "code",
   "execution_count": 3,
   "id": "bbe7fa45",
   "metadata": {
    "execution": {
     "iopub.execute_input": "2024-11-06T13:33:33.840071Z",
     "iopub.status.busy": "2024-11-06T13:33:33.839638Z",
     "iopub.status.idle": "2024-11-06T13:33:33.844566Z",
     "shell.execute_reply": "2024-11-06T13:33:33.843478Z"
    },
    "papermill": {
     "duration": 0.016833,
     "end_time": "2024-11-06T13:33:33.847035",
     "exception": false,
     "start_time": "2024-11-06T13:33:33.830202",
     "status": "completed"
    },
    "tags": []
   },
   "outputs": [],
   "source": [
    "# assigning index to each data so that it will be easier for us to work later."
   ]
  },
  {
   "cell_type": "code",
   "execution_count": 4,
   "id": "2036bf9d",
   "metadata": {
    "execution": {
     "iopub.execute_input": "2024-11-06T13:33:33.865665Z",
     "iopub.status.busy": "2024-11-06T13:33:33.865211Z",
     "iopub.status.idle": "2024-11-06T13:33:48.275063Z",
     "shell.execute_reply": "2024-11-06T13:33:48.273916Z"
    },
    "papermill": {
     "duration": 14.422354,
     "end_time": "2024-11-06T13:33:48.277970",
     "exception": false,
     "start_time": "2024-11-06T13:33:33.855616",
     "status": "completed"
    },
    "tags": []
   },
   "outputs": [],
   "source": [
    "import tensorflow as tf\n",
    "from tensorflow.keras.preprocessing.text import Tokenizer"
   ]
  },
  {
   "cell_type": "code",
   "execution_count": 5,
   "id": "aeaf2bfa",
   "metadata": {
    "execution": {
     "iopub.execute_input": "2024-11-06T13:33:48.298315Z",
     "iopub.status.busy": "2024-11-06T13:33:48.297594Z",
     "iopub.status.idle": "2024-11-06T13:33:48.303008Z",
     "shell.execute_reply": "2024-11-06T13:33:48.301959Z"
    },
    "papermill": {
     "duration": 0.018494,
     "end_time": "2024-11-06T13:33:48.305276",
     "exception": false,
     "start_time": "2024-11-06T13:33:48.286782",
     "status": "completed"
    },
    "tags": []
   },
   "outputs": [],
   "source": [
    "tokenizer = Tokenizer()"
   ]
  },
  {
   "cell_type": "code",
   "execution_count": 6,
   "id": "682e48d8",
   "metadata": {
    "execution": {
     "iopub.execute_input": "2024-11-06T13:33:48.324039Z",
     "iopub.status.busy": "2024-11-06T13:33:48.323235Z",
     "iopub.status.idle": "2024-11-06T13:33:48.329743Z",
     "shell.execute_reply": "2024-11-06T13:33:48.328687Z"
    },
    "papermill": {
     "duration": 0.01842,
     "end_time": "2024-11-06T13:33:48.332067",
     "exception": false,
     "start_time": "2024-11-06T13:33:48.313647",
     "status": "completed"
    },
    "tags": []
   },
   "outputs": [],
   "source": [
    "tokenizer.fit_on_texts([faqs])"
   ]
  },
  {
   "cell_type": "code",
   "execution_count": 7,
   "id": "aca88e51",
   "metadata": {
    "execution": {
     "iopub.execute_input": "2024-11-06T13:33:48.350670Z",
     "iopub.status.busy": "2024-11-06T13:33:48.349847Z",
     "iopub.status.idle": "2024-11-06T13:33:48.358014Z",
     "shell.execute_reply": "2024-11-06T13:33:48.356954Z"
    },
    "papermill": {
     "duration": 0.019933,
     "end_time": "2024-11-06T13:33:48.360342",
     "exception": false,
     "start_time": "2024-11-06T13:33:48.340409",
     "status": "completed"
    },
    "tags": []
   },
   "outputs": [
    {
     "data": {
      "text/plain": [
       "282"
      ]
     },
     "execution_count": 7,
     "metadata": {},
     "output_type": "execute_result"
    }
   ],
   "source": [
    "len(tokenizer.word_index)"
   ]
  },
  {
   "cell_type": "code",
   "execution_count": 8,
   "id": "ff55148f",
   "metadata": {
    "execution": {
     "iopub.execute_input": "2024-11-06T13:33:48.379474Z",
     "iopub.status.busy": "2024-11-06T13:33:48.378509Z",
     "iopub.status.idle": "2024-11-06T13:33:48.385397Z",
     "shell.execute_reply": "2024-11-06T13:33:48.384333Z"
    },
    "papermill": {
     "duration": 0.019778,
     "end_time": "2024-11-06T13:33:48.388644",
     "exception": false,
     "start_time": "2024-11-06T13:33:48.368866",
     "status": "completed"
    },
    "tags": []
   },
   "outputs": [
    {
     "name": "stdout",
     "output_type": "stream",
     "text": [
      "About the Program\n",
      "What is the course fee for  Data Science Mentorship Program (DSMP 2023)\n",
      "The course follows a monthly subscription model where you have to make monthly payments of Rs 799/month.\n",
      "What is the total duration of the course?\n",
      "The total duration of the course is 7 months. So the total course fee becomes 799*7 = Rs 5600(approx.)\n",
      "What is the syllabus of the mentorship program?\n",
      "We will be covering the following modules:\n",
      "Python Fundamentals\n",
      "Python libraries for Data Science\n",
      "Data Analysis\n",
      "SQL for Data Science\n",
      "Maths for Machine Learning\n",
      "ML Algorithms\n",
      "Practical ML\n",
      "MLOPs\n",
      "Case studies\n",
      "You can check the detailed syllabus here - https://learnwith.campusx.in/courses/CampusX-Data-Science-Mentorship-Program-637339afe4b0615a1bbed390\n",
      "Will Deep Learning and NLP be a part of this program?\n",
      "No, NLP and Deep Learning both are not a part of this program’s curriculum.\n",
      "What if I miss a live session? Will I get a recording of the session?\n",
      "Yes all our sessions are recorded, so even if you miss a session you can go back and watch the recording.\n",
      "Where can I find the class schedule?\n",
      "Checkout this google sheet to see month by month time table of the course - https://docs.google.com/spreadsheets/d/16OoTax_A6ORAeCg4emgexhqqPv3noQPYKU7RJ6ArOzk/edit?usp=sharing.\n",
      "What is the time duration of all the live sessions?\n",
      "Roughly, all the sessions last 2 hours.\n",
      "What is the language spoken by the instructor during the sessions?\n",
      "Hinglish\n",
      "How will I be informed about the upcoming class?\n",
      "You will get a mail from our side before every paid session once you become a paid user.\n",
      "Can I do this course if I am from a non-tech background?\n",
      "Yes, absolutely.\n",
      "I am late, can I join the program in the middle?\n",
      "Absolutely, you can join the program anytime.\n",
      "If I join/pay in the middle, will I be able to see all the past lectures?\n",
      "Yes, once you make the payment you will be able to see all the past content in your dashboard.\n",
      "Where do I have to submit the task?\n",
      "You don’t have to submit the task. We will provide you with the solutions, you have to self evaluate the task yourself.\n",
      "Will we do case studies in the program?\n",
      "Yes.\n",
      "Where can we contact you?\n",
      "You can mail us at nitish.campusx@gmail.com\n",
      "Payment/Registration related questions\n",
      "Where do we have to make our payments? Your YouTube channel or website?\n",
      "You have to make all your monthly payments on our website. Here is the link for our website - https://learnwith.campusx.in/\n",
      "Can we pay the entire amount of Rs 5600 all at once?\n",
      "Unfortunately no, the program follows a monthly subscription model.\n",
      "What is the validity of monthly subscription? Suppose if I pay on 15th Jan, then do I have to pay again on 1st Feb or 15th Feb\n",
      "15th Feb. The validity period is 30 days from the day you make the payment. So essentially you can join anytime you don’t have to wait for a month to end.\n",
      "What if I don’t like the course after making the payment. What is the refund policy?\n",
      "You get a 7 days refund period from the day you have made the payment.\n",
      "I am living outside India and I am not able to make the payment on the website, what should I do?\n",
      "You have to contact us by sending a mail at nitish.campusx@gmail.com\n",
      "Post registration queries\n",
      "Till when can I view the paid videos on the website?\n",
      "This one is tricky, so read carefully. You can watch the videos till your subscription is valid. Suppose you have purchased subscription on 21st Jan, you will be able to watch all the past paid sessions in the period of 21st Jan to 20th Feb. But after 21st Feb you will have to purchase the subscription again.\n",
      "But once the course is over and you have paid us Rs 5600(or 7 installments of Rs 799) you will be able to watch the paid sessions till Aug 2024.\n",
      "Why lifetime validity is not provided?\n",
      "Because of the low course fee.\n",
      "Where can I reach out in case of a doubt after the session?\n",
      "You will have to fill a google form provided in your dashboard and our team will contact you for a 1 on 1 doubt clearance session\n",
      "If I join the program late, can I still ask past week doubts?\n",
      "Yes, just select past week doubt in the doubt clearance google form.\n",
      "I am living outside India and I am not able to make the payment on the website, what should I do?\n",
      "You have to contact us by sending a mail at nitish.campusx@gmai.com\n",
      "Certificate and Placement Assistance related queries\n",
      "What is the criteria to get the certificate?\n",
      "There are 2 criterias:\n",
      "You have to pay the entire fee of Rs 5600\n",
      "You have to attempt all the course assessments.\n",
      "I am joining late. How can I pay payment of the earlier months?\n",
      "You will get a link to pay fee of earlier months in your dashboard once you pay for the current month.\n",
      "I have read that Placement assistance is a part of this program. What comes under Placement assistance?\n",
      "This is to clarify that Placement assistance does not mean Placement guarantee. So we dont guarantee you any jobs or for that matter even interview calls. So if you are planning to join this course just for placements, I am afraid you will be disappointed. Here is what comes under placement assistance\n",
      "Portfolio Building sessions\n",
      "Soft skill sessions\n",
      "Sessions with industry mentors\n",
      "Discussion on Job hunting strategies\n",
      "\n"
     ]
    }
   ],
   "source": [
    "# first we will find out all the sentences that are in our dataset.\n",
    "for sentence in faqs.split('\\n'):\n",
    "    print(sentence)"
   ]
  },
  {
   "cell_type": "code",
   "execution_count": 9,
   "id": "5e1acebb",
   "metadata": {
    "execution": {
     "iopub.execute_input": "2024-11-06T13:33:48.407875Z",
     "iopub.status.busy": "2024-11-06T13:33:48.407106Z",
     "iopub.status.idle": "2024-11-06T13:33:48.416281Z",
     "shell.execute_reply": "2024-11-06T13:33:48.415227Z"
    },
    "papermill": {
     "duration": 0.021697,
     "end_time": "2024-11-06T13:33:48.419039",
     "exception": false,
     "start_time": "2024-11-06T13:33:48.397342",
     "status": "completed"
    },
    "tags": []
   },
   "outputs": [
    {
     "name": "stdout",
     "output_type": "stream",
     "text": [
      "[93, 1, 13]\n",
      "[11, 7, 1, 12, 42, 15, 43, 53, 68, 13, 147, 148]\n",
      "[1, 12, 94, 5, 44, 29, 95, 30, 2, 8, 4, 26, 44, 69, 6, 31, 70, 45]\n",
      "[11, 7, 1, 71, 72, 6, 1, 12]\n",
      "[1, 71, 72, 6, 1, 12, 7, 54, 73, 32, 1, 71, 12, 42, 149, 70, 54, 31, 55, 150]\n",
      "[11, 7, 1, 96, 6, 1, 68, 13]\n",
      "[27, 9, 19, 151, 1, 152, 153]\n",
      "[97, 154]\n",
      "[97, 155, 15, 43, 53]\n",
      "[43, 156]\n",
      "[157, 15, 43, 53]\n",
      "[158, 15, 159, 74]\n",
      "[98, 160]\n",
      "[161, 98]\n",
      "[162]\n",
      "[75, 99]\n",
      "[2, 10, 163, 1, 164, 96, 76, 77, 100, 33, 14, 165, 33, 43, 53, 68, 13, 166]\n",
      "[9, 101, 74, 20, 102, 19, 5, 78, 6, 21, 13]\n",
      "[103, 102, 20, 101, 74, 167, 56, 46, 5, 78, 6, 21, 168, 169]\n",
      "[11, 22, 3, 104, 5, 105, 34, 9, 3, 47, 5, 106, 6, 1, 34]\n",
      "[48, 16, 35, 17, 56, 170, 32, 107, 22, 2, 104, 5, 34, 2, 10, 171, 172, 20, 57, 1, 106]\n",
      "[30, 10, 3, 173, 1, 108, 174]\n",
      "[175, 21, 58, 176, 4, 79, 45, 59, 45, 109, 177, 6, 1, 12, 77, 178, 58, 60, 179, 180, 181, 182, 183, 184, 185]\n",
      "[11, 7, 1, 109, 72, 6, 16, 1, 105, 17]\n",
      "[186, 16, 1, 17, 187, 110, 188]\n",
      "[11, 7, 1, 189, 190, 59, 1, 191, 192, 1, 17]\n",
      "[193]\n",
      "[111, 9, 3, 19, 194, 93, 1, 195, 108]\n",
      "[2, 9, 47, 5, 61, 62, 35, 196, 197, 198, 36, 34, 49, 2, 199, 5, 36, 200]\n",
      "[10, 3, 28, 21, 12, 22, 3, 23, 62, 5, 201, 202, 203]\n",
      "[48, 112]\n",
      "[3, 23, 80, 10, 3, 37, 1, 13, 14, 1, 113]\n",
      "[112, 2, 10, 37, 1, 13, 114]\n",
      "[22, 3, 37, 24, 14, 1, 113, 9, 3, 19, 38, 4, 79, 16, 1, 50, 204]\n",
      "[48, 49, 2, 26, 1, 25, 2, 9, 19, 38, 4, 79, 16, 1, 50, 205, 14, 39, 81]\n",
      "[30, 28, 3, 8, 4, 115, 1, 82]\n",
      "[2, 83, 8, 4, 115, 1, 82, 27, 9, 206, 2, 116, 1, 207, 2, 8, 4, 208, 209, 1, 82, 210]\n",
      "[9, 27, 28, 75, 99, 14, 1, 13]\n",
      "[48]\n",
      "[30, 10, 27, 63, 2]\n",
      "[2, 10, 61, 64, 65, 84, 33, 117, 60]\n",
      "[25, 118, 119, 211]\n",
      "[30, 28, 27, 8, 4, 26, 35, 69, 39, 212, 213, 66, 40]\n",
      "[2, 8, 4, 26, 16, 39, 44, 69, 18, 35, 40, 76, 7, 1, 120, 15, 35, 40, 77, 100, 33, 14]\n",
      "[10, 27, 24, 1, 121, 214, 6, 31, 55, 16, 65, 49]\n",
      "[215, 103, 1, 13, 94, 5, 44, 29, 95]\n",
      "[11, 7, 1, 85, 6, 44, 29, 122, 22, 3, 24, 18, 86, 87, 216, 28, 3, 8, 4, 24, 123, 18, 217, 51, 66, 86, 51]\n",
      "[86, 51, 1, 85, 88, 7, 218, 124, 62, 1, 125, 2, 26, 1, 25, 32, 219, 2, 10, 37, 114, 2, 83, 8, 4, 220, 15, 5, 45, 4, 221]\n",
      "[11, 22, 3, 83, 222, 1, 12, 89, 223, 1, 25, 11, 7, 1, 126, 224]\n",
      "[2, 47, 5, 54, 124, 126, 88, 62, 1, 125, 2, 8, 225, 1, 25]\n",
      "[3, 23, 127, 128, 129, 20, 3, 23, 46, 38, 4, 26, 1, 25, 18, 1, 40, 11, 130, 3, 28]\n",
      "[2, 8, 4, 63, 64, 59, 131, 5, 61, 65, 84, 33, 117, 60]\n",
      "[226, 118, 132]\n",
      "[90, 227, 10, 3, 228, 1, 36, 133, 18, 1, 40]\n",
      "[21, 229, 7, 230, 32, 134, 231, 2, 10, 57, 1, 133, 90, 39, 29, 7, 232, 122, 2, 8, 233, 29, 18, 91, 87, 2, 9, 19, 38, 4, 57, 16, 1, 50, 36, 17, 14, 1, 88, 6, 91, 87, 4, 234, 51, 135, 89, 91, 51, 2, 9, 8, 4, 235, 1, 29, 123]\n",
      "[135, 49, 1, 12, 7, 236, 20, 2, 8, 36, 64, 31, 55, 66, 54, 237, 6, 31, 70, 2, 9, 19, 38, 4, 57, 1, 36, 17, 90, 238, 239]\n",
      "[240, 241, 85, 7, 46, 136]\n",
      "[242, 6, 1, 243, 12, 42]\n",
      "[30, 10, 3, 244, 245, 14, 75, 6, 5, 67, 89, 1, 34]\n",
      "[2, 9, 8, 4, 246, 5, 58, 137, 136, 14, 39, 81, 20, 35, 247, 9, 63, 2, 15, 5, 138, 18, 138, 67, 139, 34]\n",
      "[22, 3, 37, 1, 13, 80, 10, 3, 248, 249, 50, 140, 250]\n",
      "[48, 141, 251, 50, 140, 67, 14, 1, 67, 139, 58, 137]\n",
      "[3, 23, 127, 128, 129, 20, 3, 23, 46, 38, 4, 26, 1, 25, 18, 1, 40, 11, 130, 3, 28]\n",
      "[2, 8, 4, 63, 64, 59, 131, 5, 61, 65, 84, 33, 252, 60]\n",
      "[142, 20, 41, 52, 119, 132]\n",
      "[11, 7, 1, 253, 4, 47, 1, 142]\n",
      "[254, 56, 110, 255]\n",
      "[2, 8, 4, 24, 1, 121, 42, 6, 31, 55]\n",
      "[2, 8, 4, 256, 16, 1, 12, 257]\n",
      "[3, 23, 258, 80, 111, 10, 3, 24, 25, 6, 1, 143, 73]\n",
      "[2, 9, 47, 5, 120, 4, 24, 42, 6, 143, 73, 14, 39, 81, 49, 2, 24, 15, 1, 259, 45]\n",
      "[3, 8, 134, 92, 41, 52, 7, 5, 78, 6, 21, 13, 11, 144, 145, 41, 52]\n",
      "[21, 7, 4, 260, 92, 41, 52, 261, 46, 262, 41, 146, 32, 27, 263, 146, 2, 264, 265, 66, 15, 92, 266, 107, 267, 268, 32, 22, 2, 56, 269, 4, 37, 21, 12, 141, 15, 270, 3, 23, 271, 2, 9, 19, 272, 76, 7, 11, 144, 145, 41, 52]\n",
      "[273, 274, 17]\n",
      "[275, 276, 17]\n",
      "[17, 116, 277, 278]\n",
      "[279, 18, 280, 281, 282]\n",
      "[]\n"
     ]
    }
   ],
   "source": [
    "for sentence in faqs.split('\\n'):\n",
    "    print(tokenizer.texts_to_sequences([sentence])[0])"
   ]
  },
  {
   "cell_type": "code",
   "execution_count": 10,
   "id": "cdadae7d",
   "metadata": {
    "execution": {
     "iopub.execute_input": "2024-11-06T13:33:48.439091Z",
     "iopub.status.busy": "2024-11-06T13:33:48.438132Z",
     "iopub.status.idle": "2024-11-06T13:33:48.446618Z",
     "shell.execute_reply": "2024-11-06T13:33:48.445590Z"
    },
    "papermill": {
     "duration": 0.021007,
     "end_time": "2024-11-06T13:33:48.448855",
     "exception": false,
     "start_time": "2024-11-06T13:33:48.427848",
     "status": "completed"
    },
    "tags": []
   },
   "outputs": [],
   "source": [
    "input_sequences = []\n",
    "for sentence in faqs.split('\\n'):\n",
    "    tokenized_sentence = tokenizer.texts_to_sequences([sentence])[0]\n",
    "\n",
    "    for i in range(1, len(tokenized_sentence)):\n",
    "        input_sequences.append(tokenized_sentence[:i+1])"
   ]
  },
  {
   "cell_type": "code",
   "execution_count": 11,
   "id": "f03039e6",
   "metadata": {
    "execution": {
     "iopub.execute_input": "2024-11-06T13:33:48.468910Z",
     "iopub.status.busy": "2024-11-06T13:33:48.467866Z",
     "iopub.status.idle": "2024-11-06T13:33:48.472668Z",
     "shell.execute_reply": "2024-11-06T13:33:48.471613Z"
    },
    "papermill": {
     "duration": 0.017267,
     "end_time": "2024-11-06T13:33:48.475040",
     "exception": false,
     "start_time": "2024-11-06T13:33:48.457773",
     "status": "completed"
    },
    "tags": []
   },
   "outputs": [],
   "source": [
    "#input_sequences"
   ]
  },
  {
   "cell_type": "code",
   "execution_count": 12,
   "id": "000229c7",
   "metadata": {
    "execution": {
     "iopub.execute_input": "2024-11-06T13:33:48.495117Z",
     "iopub.status.busy": "2024-11-06T13:33:48.494122Z",
     "iopub.status.idle": "2024-11-06T13:33:48.498906Z",
     "shell.execute_reply": "2024-11-06T13:33:48.497978Z"
    },
    "papermill": {
     "duration": 0.017205,
     "end_time": "2024-11-06T13:33:48.501259",
     "exception": false,
     "start_time": "2024-11-06T13:33:48.484054",
     "status": "completed"
    },
    "tags": []
   },
   "outputs": [],
   "source": [
    "# when you do a supervised learning tasks, the shape of the input rows has to be same. \n",
    "# So, in order to do that, applying zero padding."
   ]
  },
  {
   "cell_type": "code",
   "execution_count": 13,
   "id": "59a7032d",
   "metadata": {
    "execution": {
     "iopub.execute_input": "2024-11-06T13:33:48.521338Z",
     "iopub.status.busy": "2024-11-06T13:33:48.520858Z",
     "iopub.status.idle": "2024-11-06T13:33:48.528394Z",
     "shell.execute_reply": "2024-11-06T13:33:48.527420Z"
    },
    "papermill": {
     "duration": 0.020215,
     "end_time": "2024-11-06T13:33:48.530670",
     "exception": false,
     "start_time": "2024-11-06T13:33:48.510455",
     "status": "completed"
    },
    "tags": []
   },
   "outputs": [
    {
     "data": {
      "text/plain": [
       "57"
      ]
     },
     "execution_count": 13,
     "metadata": {},
     "output_type": "execute_result"
    }
   ],
   "source": [
    "max_len = max([len(x) for x in input_sequences])\n",
    "max_len"
   ]
  },
  {
   "cell_type": "code",
   "execution_count": 14,
   "id": "792fc37f",
   "metadata": {
    "execution": {
     "iopub.execute_input": "2024-11-06T13:33:48.550942Z",
     "iopub.status.busy": "2024-11-06T13:33:48.550242Z",
     "iopub.status.idle": "2024-11-06T13:33:48.561058Z",
     "shell.execute_reply": "2024-11-06T13:33:48.560063Z"
    },
    "papermill": {
     "duration": 0.023621,
     "end_time": "2024-11-06T13:33:48.563564",
     "exception": false,
     "start_time": "2024-11-06T13:33:48.539943",
     "status": "completed"
    },
    "tags": []
   },
   "outputs": [],
   "source": [
    "from tensorflow.keras.preprocessing.sequence import pad_sequences\n",
    "padded_input_sequences = pad_sequences(input_sequences, maxlen = max_len, padding = 'pre')"
   ]
  },
  {
   "cell_type": "code",
   "execution_count": 15,
   "id": "bbb6ec08",
   "metadata": {
    "execution": {
     "iopub.execute_input": "2024-11-06T13:33:48.583132Z",
     "iopub.status.busy": "2024-11-06T13:33:48.582706Z",
     "iopub.status.idle": "2024-11-06T13:33:48.590243Z",
     "shell.execute_reply": "2024-11-06T13:33:48.588946Z"
    },
    "papermill": {
     "duration": 0.02014,
     "end_time": "2024-11-06T13:33:48.592610",
     "exception": false,
     "start_time": "2024-11-06T13:33:48.572470",
     "status": "completed"
    },
    "tags": []
   },
   "outputs": [
    {
     "data": {
      "text/plain": [
       "array([[  0,   0,   0, ...,   0,  93,   1],\n",
       "       [  0,   0,   0, ...,  93,   1,  13],\n",
       "       [  0,   0,   0, ...,   0,  11,   7],\n",
       "       ...,\n",
       "       [  0,   0,   0, ..., 279,  18, 280],\n",
       "       [  0,   0,   0, ...,  18, 280, 281],\n",
       "       [  0,   0,   0, ..., 280, 281, 282]], dtype=int32)"
      ]
     },
     "execution_count": 15,
     "metadata": {},
     "output_type": "execute_result"
    }
   ],
   "source": [
    "padded_input_sequences"
   ]
  },
  {
   "cell_type": "code",
   "execution_count": 16,
   "id": "db3f00bf",
   "metadata": {
    "execution": {
     "iopub.execute_input": "2024-11-06T13:33:48.613003Z",
     "iopub.status.busy": "2024-11-06T13:33:48.612570Z",
     "iopub.status.idle": "2024-11-06T13:33:48.621296Z",
     "shell.execute_reply": "2024-11-06T13:33:48.619408Z"
    },
    "papermill": {
     "duration": 0.02196,
     "end_time": "2024-11-06T13:33:48.623991",
     "exception": false,
     "start_time": "2024-11-06T13:33:48.602031",
     "status": "completed"
    },
    "tags": []
   },
   "outputs": [
    {
     "data": {
      "text/plain": [
       "array([[  0,   0,   0, ...,   0,   0,  93],\n",
       "       [  0,   0,   0, ...,   0,  93,   1],\n",
       "       [  0,   0,   0, ...,   0,   0,  11],\n",
       "       ...,\n",
       "       [  0,   0,   0, ...,   0, 279,  18],\n",
       "       [  0,   0,   0, ..., 279,  18, 280],\n",
       "       [  0,   0,   0, ...,  18, 280, 281]], dtype=int32)"
      ]
     },
     "execution_count": 16,
     "metadata": {},
     "output_type": "execute_result"
    }
   ],
   "source": [
    "X = padded_input_sequences[:,:-1]\n",
    "X"
   ]
  },
  {
   "cell_type": "code",
   "execution_count": 17,
   "id": "e7a461ea",
   "metadata": {
    "execution": {
     "iopub.execute_input": "2024-11-06T13:33:48.644816Z",
     "iopub.status.busy": "2024-11-06T13:33:48.644373Z",
     "iopub.status.idle": "2024-11-06T13:33:48.654721Z",
     "shell.execute_reply": "2024-11-06T13:33:48.653726Z"
    },
    "papermill": {
     "duration": 0.024044,
     "end_time": "2024-11-06T13:33:48.657654",
     "exception": false,
     "start_time": "2024-11-06T13:33:48.633610",
     "status": "completed"
    },
    "tags": []
   },
   "outputs": [
    {
     "data": {
      "text/plain": [
       "array([  1,  13,   7,   1,  12,  42,  15,  43,  53,  68,  13, 147, 148,\n",
       "        12,  94,   5,  44,  29,  95,  30,   2,   8,   4,  26,  44,  69,\n",
       "         6,  31,  70,  45,   7,   1,  71,  72,   6,   1,  12,  71,  72,\n",
       "         6,   1,  12,   7,  54,  73,  32,   1,  71,  12,  42, 149,  70,\n",
       "        54,  31,  55, 150,   7,   1,  96,   6,   1,  68,  13,   9,  19,\n",
       "       151,   1, 152, 153, 154, 155,  15,  43,  53, 156,  15,  43,  53,\n",
       "        15, 159,  74, 160,  98,  99,  10, 163,   1, 164,  96,  76,  77,\n",
       "       100,  33,  14, 165,  33,  43,  53,  68,  13, 166, 101,  74,  20,\n",
       "       102,  19,   5,  78,   6,  21,  13, 102,  20, 101,  74, 167,  56,\n",
       "        46,   5,  78,   6,  21, 168, 169,  22,   3, 104,   5, 105,  34,\n",
       "         9,   3,  47,   5, 106,   6,   1,  34,  16,  35,  17,  56, 170,\n",
       "        32, 107,  22,   2, 104,   5,  34,   2,  10, 171, 172,  20,  57,\n",
       "         1, 106,  10,   3, 173,   1, 108, 174,  21,  58, 176,   4,  79,\n",
       "        45,  59,  45, 109, 177,   6,   1,  12,  77, 178,  58,  60, 179,\n",
       "       180, 181, 182, 183, 184, 185,   7,   1, 109,  72,   6,  16,   1,\n",
       "       105,  17,  16,   1,  17, 187, 110, 188,   7,   1, 189, 190,  59,\n",
       "         1, 191, 192,   1,  17,   9,   3,  19, 194,  93,   1, 195, 108,\n",
       "         9,  47,   5,  61,  62,  35, 196, 197, 198,  36,  34,  49,   2,\n",
       "       199,   5,  36, 200,   3,  28,  21,  12,  22,   3,  23,  62,   5,\n",
       "       201, 202, 203, 112,  23,  80,  10,   3,  37,   1,  13,  14,   1,\n",
       "       113,   2,  10,  37,   1,  13, 114,   3,  37,  24,  14,   1, 113,\n",
       "         9,   3,  19,  38,   4,  79,  16,   1,  50, 204,  49,   2,  26,\n",
       "         1,  25,   2,   9,  19,  38,   4,  79,  16,   1,  50, 205,  14,\n",
       "        39,  81,  28,   3,   8,   4, 115,   1,  82,  83,   8,   4, 115,\n",
       "         1,  82,  27,   9, 206,   2, 116,   1, 207,   2,   8,   4, 208,\n",
       "       209,   1,  82, 210,  27,  28,  75,  99,  14,   1,  13,  10,  27,\n",
       "        63,   2,  10,  61,  64,  65,  84,  33, 117,  60, 118, 119, 211,\n",
       "        28,  27,   8,   4,  26,  35,  69,  39, 212, 213,  66,  40,   8,\n",
       "         4,  26,  16,  39,  44,  69,  18,  35,  40,  76,   7,   1, 120,\n",
       "        15,  35,  40,  77, 100,  33,  14,  27,  24,   1, 121, 214,   6,\n",
       "        31,  55,  16,  65,  49, 103,   1,  13,  94,   5,  44,  29,  95,\n",
       "         7,   1,  85,   6,  44,  29, 122,  22,   3,  24,  18,  86,  87,\n",
       "       216,  28,   3,   8,   4,  24, 123,  18, 217,  51,  66,  86,  51,\n",
       "        51,   1,  85,  88,   7, 218, 124,  62,   1, 125,   2,  26,   1,\n",
       "        25,  32, 219,   2,  10,  37, 114,   2,  83,   8,   4, 220,  15,\n",
       "         5,  45,   4, 221,  22,   3,  83, 222,   1,  12,  89, 223,   1,\n",
       "        25,  11,   7,   1, 126, 224,  47,   5,  54, 124, 126,  88,  62,\n",
       "         1, 125,   2,   8, 225,   1,  25,  23, 127, 128, 129,  20,   3,\n",
       "        23,  46,  38,   4,  26,   1,  25,  18,   1,  40,  11, 130,   3,\n",
       "        28,   8,   4,  63,  64,  59, 131,   5,  61,  65,  84,  33, 117,\n",
       "        60, 118, 132, 227,  10,   3, 228,   1,  36, 133,  18,   1,  40,\n",
       "       229,   7, 230,  32, 134, 231,   2,  10,  57,   1, 133,  90,  39,\n",
       "        29,   7, 232, 122,   2,   8, 233,  29,  18,  91,  87,   2,   9,\n",
       "        19,  38,   4,  57,  16,   1,  50,  36,  17,  14,   1,  88,   6,\n",
       "        91,  87,   4, 234,  51, 135,  89,  91,  51,   2,   9,   8,   4,\n",
       "       235,   1,  29, 123,  49,   1,  12,   7, 236,  20,   2,   8,  36,\n",
       "        64,  31,  55,  66,  54, 237,   6,  31,  70,   2,   9,  19,  38,\n",
       "         4,  57,   1,  36,  17,  90, 238, 239, 241,  85,   7,  46, 136,\n",
       "         6,   1, 243,  12,  42,  10,   3, 244, 245,  14,  75,   6,   5,\n",
       "        67,  89,   1,  34,   9,   8,   4, 246,   5,  58, 137, 136,  14,\n",
       "        39,  81,  20,  35, 247,   9,  63,   2,  15,   5, 138,  18, 138,\n",
       "        67, 139,  34,   3,  37,   1,  13,  80,  10,   3, 248, 249,  50,\n",
       "       140, 250, 141, 251,  50, 140,  67,  14,   1,  67, 139,  58, 137,\n",
       "        23, 127, 128, 129,  20,   3,  23,  46,  38,   4,  26,   1,  25,\n",
       "        18,   1,  40,  11, 130,   3,  28,   8,   4,  63,  64,  59, 131,\n",
       "         5,  61,  65,  84,  33, 252,  60,  20,  41,  52, 119, 132,   7,\n",
       "         1, 253,   4,  47,   1, 142,  56, 110, 255,   8,   4,  24,   1,\n",
       "       121,  42,   6,  31,  55,   8,   4, 256,  16,   1,  12, 257,  23,\n",
       "       258,  80, 111,  10,   3,  24,  25,   6,   1, 143,  73,   9,  47,\n",
       "         5, 120,   4,  24,  42,   6, 143,  73,  14,  39,  81,  49,   2,\n",
       "        24,  15,   1, 259,  45,   8, 134,  92,  41,  52,   7,   5,  78,\n",
       "         6,  21,  13,  11, 144, 145,  41,  52,   7,   4, 260,  92,  41,\n",
       "        52, 261,  46, 262,  41, 146,  32,  27, 263, 146,   2, 264, 265,\n",
       "        66,  15,  92, 266, 107, 267, 268,  32,  22,   2,  56, 269,   4,\n",
       "        37,  21,  12, 141,  15, 270,   3,  23, 271,   2,   9,  19, 272,\n",
       "        76,   7,  11, 144, 145,  41,  52, 274,  17, 276,  17, 116, 277,\n",
       "       278,  18, 280, 281, 282], dtype=int32)"
      ]
     },
     "execution_count": 17,
     "metadata": {},
     "output_type": "execute_result"
    }
   ],
   "source": [
    "y = padded_input_sequences[:,-1]\n",
    "y"
   ]
  },
  {
   "cell_type": "code",
   "execution_count": 18,
   "id": "659ca1e8",
   "metadata": {
    "execution": {
     "iopub.execute_input": "2024-11-06T13:33:48.678712Z",
     "iopub.status.busy": "2024-11-06T13:33:48.678272Z",
     "iopub.status.idle": "2024-11-06T13:33:48.685075Z",
     "shell.execute_reply": "2024-11-06T13:33:48.684117Z"
    },
    "papermill": {
     "duration": 0.019937,
     "end_time": "2024-11-06T13:33:48.687410",
     "exception": false,
     "start_time": "2024-11-06T13:33:48.667473",
     "status": "completed"
    },
    "tags": []
   },
   "outputs": [
    {
     "data": {
      "text/plain": [
       "(863, 56)"
      ]
     },
     "execution_count": 18,
     "metadata": {},
     "output_type": "execute_result"
    }
   ],
   "source": [
    "X.shape"
   ]
  },
  {
   "cell_type": "code",
   "execution_count": 19,
   "id": "171a9fe7",
   "metadata": {
    "execution": {
     "iopub.execute_input": "2024-11-06T13:33:48.709491Z",
     "iopub.status.busy": "2024-11-06T13:33:48.708652Z",
     "iopub.status.idle": "2024-11-06T13:33:48.715391Z",
     "shell.execute_reply": "2024-11-06T13:33:48.714258Z"
    },
    "papermill": {
     "duration": 0.020566,
     "end_time": "2024-11-06T13:33:48.717871",
     "exception": false,
     "start_time": "2024-11-06T13:33:48.697305",
     "status": "completed"
    },
    "tags": []
   },
   "outputs": [
    {
     "data": {
      "text/plain": [
       "(863,)"
      ]
     },
     "execution_count": 19,
     "metadata": {},
     "output_type": "execute_result"
    }
   ],
   "source": [
    "y.shape"
   ]
  },
  {
   "cell_type": "code",
   "execution_count": 20,
   "id": "1f4b2e31",
   "metadata": {
    "execution": {
     "iopub.execute_input": "2024-11-06T13:33:48.740706Z",
     "iopub.status.busy": "2024-11-06T13:33:48.739746Z",
     "iopub.status.idle": "2024-11-06T13:33:48.747644Z",
     "shell.execute_reply": "2024-11-06T13:33:48.746589Z"
    },
    "papermill": {
     "duration": 0.022005,
     "end_time": "2024-11-06T13:33:48.750032",
     "exception": false,
     "start_time": "2024-11-06T13:33:48.728027",
     "status": "completed"
    },
    "tags": []
   },
   "outputs": [],
   "source": [
    "from tensorflow.keras.utils import to_categorical\n",
    "y = to_categorical(y, num_classes = 283)"
   ]
  },
  {
   "cell_type": "code",
   "execution_count": 21,
   "id": "a39f0fcb",
   "metadata": {
    "execution": {
     "iopub.execute_input": "2024-11-06T13:33:48.772012Z",
     "iopub.status.busy": "2024-11-06T13:33:48.771174Z",
     "iopub.status.idle": "2024-11-06T13:33:48.778264Z",
     "shell.execute_reply": "2024-11-06T13:33:48.777204Z"
    },
    "papermill": {
     "duration": 0.020653,
     "end_time": "2024-11-06T13:33:48.780628",
     "exception": false,
     "start_time": "2024-11-06T13:33:48.759975",
     "status": "completed"
    },
    "tags": []
   },
   "outputs": [
    {
     "data": {
      "text/plain": [
       "(863, 283)"
      ]
     },
     "execution_count": 21,
     "metadata": {},
     "output_type": "execute_result"
    }
   ],
   "source": [
    "y.shape"
   ]
  },
  {
   "cell_type": "code",
   "execution_count": 22,
   "id": "6ea5d0fe",
   "metadata": {
    "execution": {
     "iopub.execute_input": "2024-11-06T13:33:48.803267Z",
     "iopub.status.busy": "2024-11-06T13:33:48.802802Z",
     "iopub.status.idle": "2024-11-06T13:33:48.812384Z",
     "shell.execute_reply": "2024-11-06T13:33:48.811243Z"
    },
    "papermill": {
     "duration": 0.023764,
     "end_time": "2024-11-06T13:33:48.814750",
     "exception": false,
     "start_time": "2024-11-06T13:33:48.790986",
     "status": "completed"
    },
    "tags": []
   },
   "outputs": [
    {
     "data": {
      "text/plain": [
       "array([[0., 1., 0., ..., 0., 0., 0.],\n",
       "       [0., 0., 0., ..., 0., 0., 0.],\n",
       "       [0., 0., 0., ..., 0., 0., 0.],\n",
       "       ...,\n",
       "       [0., 0., 0., ..., 1., 0., 0.],\n",
       "       [0., 0., 0., ..., 0., 1., 0.],\n",
       "       [0., 0., 0., ..., 0., 0., 1.]])"
      ]
     },
     "execution_count": 22,
     "metadata": {},
     "output_type": "execute_result"
    }
   ],
   "source": [
    "y"
   ]
  },
  {
   "cell_type": "code",
   "execution_count": 23,
   "id": "001a4981",
   "metadata": {
    "execution": {
     "iopub.execute_input": "2024-11-06T13:33:48.837444Z",
     "iopub.status.busy": "2024-11-06T13:33:48.836655Z",
     "iopub.status.idle": "2024-11-06T13:33:48.841244Z",
     "shell.execute_reply": "2024-11-06T13:33:48.840230Z"
    },
    "papermill": {
     "duration": 0.018599,
     "end_time": "2024-11-06T13:33:48.843663",
     "exception": false,
     "start_time": "2024-11-06T13:33:48.825064",
     "status": "completed"
    },
    "tags": []
   },
   "outputs": [],
   "source": [
    "# NOW WE ARE READY WITH OUR TRAINING DATA \n",
    "# LET'S CREATE THE MODEL AND FEED IN THE DATA IN NEXT SESSION."
   ]
  },
  {
   "cell_type": "code",
   "execution_count": null,
   "id": "f10f695f",
   "metadata": {
    "papermill": {
     "duration": 0.009762,
     "end_time": "2024-11-06T13:33:48.863908",
     "exception": false,
     "start_time": "2024-11-06T13:33:48.854146",
     "status": "completed"
    },
    "tags": []
   },
   "outputs": [],
   "source": []
  }
 ],
 "metadata": {
  "kaggle": {
   "accelerator": "none",
   "dataSources": [],
   "dockerImageVersionId": 30786,
   "isGpuEnabled": false,
   "isInternetEnabled": false,
   "language": "python",
   "sourceType": "notebook"
  },
  "kernelspec": {
   "display_name": "Python 3",
   "language": "python",
   "name": "python3"
  },
  "language_info": {
   "codemirror_mode": {
    "name": "ipython",
    "version": 3
   },
   "file_extension": ".py",
   "mimetype": "text/x-python",
   "name": "python",
   "nbconvert_exporter": "python",
   "pygments_lexer": "ipython3",
   "version": "3.10.14"
  },
  "papermill": {
   "default_parameters": {},
   "duration": 19.356042,
   "end_time": "2024-11-06T13:33:50.298137",
   "environment_variables": {},
   "exception": null,
   "input_path": "__notebook__.ipynb",
   "output_path": "__notebook__.ipynb",
   "parameters": {},
   "start_time": "2024-11-06T13:33:30.942095",
   "version": "2.6.0"
  }
 },
 "nbformat": 4,
 "nbformat_minor": 5
}
